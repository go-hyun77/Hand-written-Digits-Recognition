{
  "nbformat": 4,
  "nbformat_minor": 0,
  "metadata": {
    "colab": {
      "provenance": []
    },
    "kernelspec": {
      "name": "python3",
      "display_name": "Python 3"
    },
    "language_info": {
      "name": "python"
    }
  },
  "cells": [
    {
      "cell_type": "markdown",
      "source": [
        "**<h1>CPSC 585-01 Spring 2023 Introductory Project, Gordon Huynh</h1>**\n",
        " <li>This introductory project focuses on building skills with Python and some of the libraries and tools needed to work with neural network models. </li>\n",
        "\n"
      ],
      "metadata": {
        "id": "6K75es2umXZl"
      }
    },
    {
      "cell_type": "code",
      "source": [
        "# importing the necessary libraries\n",
        "import tensorflow as tf\n",
        "import numpy as np\n",
        "import matplotlib.pyplot as plt\n",
        "from keras.utils import np_utils\n",
        "from tensorflow.python.keras.layers import Input, Dense, Dropout\n"
      ],
      "metadata": {
        "id": "dXhuIy9_U4mA"
      },
      "execution_count": null,
      "outputs": []
    },
    {
      "cell_type": "markdown",
      "source": [
        "**<h1>Importing the ScikitLearn Dataset</h1>**\n",
        "<li>The <a href=\"https://scikit-learn.org/stable/datasets/toy_dataset.html#digits-dataset\">Optical recognition of handwritten digits dataset</a>, included with the scikit-learn library consists of 1797 8✕8 grayscale images of hand-written digits sorted into classes 0 to 9, in which the values of the arrays vary from 0 to 16.</li>"
      ],
      "metadata": {
        "id": "S_WAqCwsGyrQ"
      }
    },
    {
      "cell_type": "code",
      "source": [
        "# importing the handwritten digits dataset\n",
        "from sklearn import datasets\n",
        "from sklearn.datasets import load_digits\n",
        "from sklearn.model_selection import train_test_split"
      ],
      "metadata": {
        "id": "PPTmdCLr2Y3L"
      },
      "execution_count": null,
      "outputs": []
    },
    {
      "cell_type": "markdown",
      "source": [
        "**<h1>Verifying the Dataset Attributes</h1>**\n",
        "<li>We check the shape of the data/images below with:\n",
        "\n",
        "```\n",
        "digits.data.shape\n",
        "```\n",
        "\n",
        "```\n",
        "digits.images.shape\n",
        "```\n",
        "\n",
        "\n",
        "</li>"
      ],
      "metadata": {
        "id": "bqpmWG1oJBQf"
      }
    },
    {
      "cell_type": "code",
      "source": [
        "# loading the digits from data set\n",
        "digits = load_digits()"
      ],
      "metadata": {
        "id": "FjQrSl7s2aIq"
      },
      "execution_count": null,
      "outputs": []
    },
    {
      "cell_type": "code",
      "source": [
        "# checking number of instances/attributes\n",
        "print(digits.data.shape)"
      ],
      "metadata": {
        "id": "HGyGa7yz2eDc",
        "colab": {
          "base_uri": "https://localhost:8080/"
        },
        "outputId": "dd3db80e-9c7e-4733-fc4b-77922268ec3c"
      },
      "execution_count": null,
      "outputs": [
        {
          "output_type": "stream",
          "name": "stdout",
          "text": [
            "(1797, 64)\n"
          ]
        }
      ]
    },
    {
      "cell_type": "code",
      "source": [
        "#shape of digits data, dataset has 1791 images in total, and each of these are in an 8x8 array of grayscale pixels (64 total pixels)\n",
        "print(\"Digits Data Shape:\", digits.images.shape)"
      ],
      "metadata": {
        "id": "hWtVqCc4q7pa",
        "colab": {
          "base_uri": "https://localhost:8080/"
        },
        "outputId": "35abeb44-0f85-43fa-ad64-e816c1ad5a12"
      },
      "execution_count": null,
      "outputs": [
        {
          "output_type": "stream",
          "name": "stdout",
          "text": [
            "Digits Data Shape: (1797, 8, 8)\n"
          ]
        }
      ]
    },
    {
      "cell_type": "markdown",
      "source": [
        "**<h1>Visualizing the Dataset Arrays</h1>**\n",
        "<li>A test print of the first array index yields the aforementioned 8✕8 array of values ranging from 0 to 16. </li>\n",
        "\n",
        "> <li>Plotting the image yields a grayscale 8✕8 graph in which we can see the array values functioning as a spectrum of grayscale intensity, with a value of \"0\" representing a completely white cell, and a \"16\" representing a completely black cell. </li><br>\n",
        "\n",
        "\n"
      ],
      "metadata": {
        "id": "lS-VMaCMJ2OO"
      }
    },
    {
      "cell_type": "code",
      "source": [
        "#test print an instance of digits array, values of the array range from 0 to 16\n",
        "print(digits.images[0])"
      ],
      "metadata": {
        "id": "clkDPpS2rOSI",
        "colab": {
          "base_uri": "https://localhost:8080/"
        },
        "outputId": "23c98b05-0c22-4b97-8943-49c3412fca3b"
      },
      "execution_count": null,
      "outputs": [
        {
          "output_type": "stream",
          "name": "stdout",
          "text": [
            "[[ 0.  0.  5. 13.  9.  1.  0.  0.]\n",
            " [ 0.  0. 13. 15. 10. 15.  5.  0.]\n",
            " [ 0.  3. 15.  2.  0. 11.  8.  0.]\n",
            " [ 0.  4. 12.  0.  0.  8.  8.  0.]\n",
            " [ 0.  5.  8.  0.  0.  9.  8.  0.]\n",
            " [ 0.  4. 11.  0.  1. 12.  7.  0.]\n",
            " [ 0.  2. 14.  5. 10. 12.  0.  0.]\n",
            " [ 0.  0.  6. 13. 10.  0.  0.  0.]]\n"
          ]
        }
      ]
    },
    {
      "cell_type": "code",
      "source": [
        "#test print the image of the above instance\n",
        "plt.imshow(digits.images[0],cmap='binary')\n",
        "plt.show()"
      ],
      "metadata": {
        "id": "EFNivIfEruhi",
        "colab": {
          "base_uri": "https://localhost:8080/",
          "height": 265
        },
        "outputId": "16a568c5-284d-45fb-b01d-2a01fc12a2b2"
      },
      "execution_count": null,
      "outputs": [
        {
          "output_type": "display_data",
          "data": {
            "text/plain": [
              "<Figure size 432x288 with 1 Axes>"
            ],
            "image/png": "[encoded data removed]"
          },
          "metadata": {
            "needs_background": "light"
          }
        }
      ]
    },
    {
      "cell_type": "code",
      "source": [
        "# visualize digits\n",
        "plt.figure()\n",
        "\n",
        "_, axes = plt.subplots(nrows=1, ncols=10, figsize=(10, 3))\n",
        "for ax, image, label in zip(axes, digits.images, digits.target):\n",
        "    ax.set_axis_off()\n",
        "    ax.imshow(image, cmap=plt.cm.gray_r, interpolation=\"nearest\")\n",
        "    ax.set_title(\"Train: %i\" % label)\n"
      ],
      "metadata": {
        "id": "r2HlZcC62bEb",
        "colab": {
          "base_uri": "https://localhost:8080/",
          "height": 111
        },
        "outputId": "b21ff927-a599-4ba4-f7fc-b2a826d3534d"
      },
      "execution_count": null,
      "outputs": [
        {
          "output_type": "display_data",
          "data": {
            "text/plain": [
              "<Figure size 432x288 with 0 Axes>"
            ]
          },
          "metadata": {}
        },
        {
          "output_type": "display_data",
          "data": {
            "text/plain": [
              "<Figure size 720x216 with 10 Axes>"
            ],
            "image/png": "[encoded data removed]"
          },
          "metadata": {
            "needs_background": "light"
          }
        }
      ]
    },
    {
      "cell_type": "markdown",
      "source": [
        "**<h1>Task 1.</h1>**\n"
      ],
      "metadata": {
        "id": "5Te9NnqNPhbJ"
      }
    },
    {
      "cell_type": "markdown",
      "source": [
        "**<h1>Transforming the Dataset</h1>**\n",
        "<li>The input layer of the neural network requires a 1-dimensional array as input.</li>\n",
        "\n",
        "> <li>Currently, the data from ScikitLearn Dataset is by default in 2-dimensional arrays (8, 8). Thus, we flatten the images from 2-dimensional arrays (8, 8) into 1-dimensional arrays of shape (64, ), where (n_samples, n_features) such that n_samples is the number of images and n_features is the total number of pixels in each image.</li>\n",
        "\n"
      ],
      "metadata": {
        "id": "svKpIUBlNGgx"
      }
    },
    {
      "cell_type": "code",
      "source": [
        "# flatten images \n",
        "n_samples = len(digits.images)\n",
        "data = digits.images.reshape((n_samples, -1))"
      ],
      "metadata": {
        "id": "4HCApT4l2iUL"
      },
      "execution_count": null,
      "outputs": []
    },
    {
      "cell_type": "markdown",
      "source": [
        "**<h1>Splitting the Dataset</h1>**\n",
        "<li>The dataset is split in two, half of which will be used to train the network, and the other half will be used to test the network.</li><br>"
      ],
      "metadata": {
        "id": "yXv5LHKVPodx"
      }
    },
    {
      "cell_type": "code",
      "source": [
        "# split dataset into 50% training and 50% testing sets\n",
        "X_train, X_test, Y_train, Y_test = train_test_split(data, digits.target, test_size = 0.5)"
      ],
      "metadata": {
        "id": "KQ4oVvsO-mRI"
      },
      "execution_count": null,
      "outputs": []
    },
    {
      "cell_type": "code",
      "source": [
        "# verify test/train data split correctly\n",
        "print(\"Train Data Shape:\", X_train.shape)\n",
        "print(\"Test Data Shape:\", X_test.shape)\n",
        "print(\"Target Train Data Shape:\", Y_train.shape)\n",
        "print(\"Target Test Data Shape:\", Y_test.shape)"
      ],
      "metadata": {
        "id": "wNpVZVuVBx4e",
        "colab": {
          "base_uri": "https://localhost:8080/"
        },
        "outputId": "b5986986-b6ad-434b-a1a4-77340aaf3d0d"
      },
      "execution_count": null,
      "outputs": [
        {
          "output_type": "stream",
          "name": "stdout",
          "text": [
            "Train Data Shape: (898, 64)\n",
            "Test Data Shape: (899, 64)\n",
            "Target Train Data Shape: (898,)\n",
            "Target Test Data Shape: (899,)\n"
          ]
        }
      ]
    },
    {
      "cell_type": "code",
      "source": [
        "# normalizing the data to between 0 and 1 to help with the training\n",
        "\n",
        "X_train /= 255\n",
        "X_test /= 255\n",
        "\n",
        "# print input shape ready for training \n",
        "print(\"Train Matrix Shape\", X_train.shape) \n",
        "print(\"Test Matrix Shape\", X_test.shape)"
      ],
      "metadata": {
        "colab": {
          "base_uri": "https://localhost:8080/"
        },
        "id": "i3OVsTiinqnO",
        "outputId": "a33cef7c-b914-4d61-9492-6cbd27b5b113"
      },
      "execution_count": null,
      "outputs": [
        {
          "output_type": "stream",
          "name": "stdout",
          "text": [
            "Train Matrix Shape (898, 64)\n",
            "Test Matrix Shape (899, 64)\n"
          ]
        }
      ]
    },
    {
      "cell_type": "markdown",
      "source": [
        "**<h1>One Hot-Encoding Output</h1>**\n",
        "<li>Currently, the output neurons can only give an output in the range of 0 to 1. Thus, we convert discrete output values to categorical values so that output values can be represented as a vector of zero and one with the length equal to the number of classes (this case being 10, as there are 10 different digits to recognize, 0, 1, 2, 3, 4, ... 9.)</li>"
      ],
      "metadata": {
        "id": "FGbI1sGNQuL2"
      }
    },
    {
      "cell_type": "code",
      "source": [
        "# hot encoding training with keras np_utils\n",
        "n_classes = 10\n",
        "\n",
        "print(\"Shape before one-hot encoding: \", Y_train.shape)\n",
        "Y_train = np_utils.to_categorical(Y_train, n_classes) \n",
        "Y_test = np_utils.to_categorical(Y_test, n_classes) \n",
        "print(\"Shape after one-hot encoding: \", Y_train.shape)"
      ],
      "metadata": {
        "colab": {
          "base_uri": "https://localhost:8080/"
        },
        "id": "DLWtS1C8-dHz",
        "outputId": "9c0391b3-13c0-47a1-a47a-90714c4c8e41"
      },
      "execution_count": null,
      "outputs": [
        {
          "output_type": "stream",
          "name": "stdout",
          "text": [
            "Shape before one-hot encoding:  (898,)\n",
            "Shape after one-hot encoding:  (898, 10)\n"
          ]
        }
      ]
    },
    {
      "cell_type": "markdown",
      "source": [
        "**<h1>Defining Neural Network Model Architecture</h1>**\n",
        "<li><code>tf.keras.Sequential</code> groups a linear stack of layers into a <code>tf.keras.Model</code>.</li><br>\n",
        "\n",
        "<li><code>tf.keras.layers.Dense</code> is a regular densely-connected Neural Network Layer.</li><br>\n",
        "\n",
        "<li><code>tf.keras.layers.Dropout</code>: applies Dropout to the input, randomly setting input units to 0 at a specified frequency (in this case 0.2) during each training step in order to avoid overfitting.</li><br>\n"
      ],
      "metadata": {
        "id": "CoiohotvTmD2"
      }
    },
    {
      "cell_type": "markdown",
      "source": [
        "**<h1>Function Call Parameters</h1>**\n",
        "\n",
        "<li>Listed below are the parameters for functions in which we add layers to the model.</li>\n",
        "\n",
        "```\n",
        "model.add(tf.keras.layers.Dense(units, input_shape, name))\n",
        "```\n",
        "\n",
        "\n",
        "<li><code>units</code>: A positive integer, dimensionality of the output \n",
        "space. <code>64</code> is specified to be the dimensionality of the layer in the section below, giving us a layer of 64 neurons. .</li><br>\n",
        "\n",
        "<li><code>input_shape</code>: Specifies the input shape, in this case being <code>X_train.shape[1]</code> in the section below.</li><br>\n",
        "\n",
        "<li><code>name</code>: Name of the layer, in this case being <code>name=\"input_layer\"</code> in the section below.</li><br>\n",
        "\n",
        "\n",
        "```\n",
        "model.add(tf.keras.layers.Activation(activation)\n",
        "```\n",
        "\n",
        "<li><code>activation</code>: Activation function to use. The activations used in this project are listed as follows.</li><br>\n",
        "\n",
        "<li><code>relu</code>: Computes the rectified linear unit: <code>max(features, 0)</code>.</li><br>\n",
        "  \n",
        "<li><code>softmax</code>: Computes softmax activations, used for multi-class predictions. The sum of all outputs generated by softmax is 1. This function performs the equivalent of <code>softmax = tf.exp(logits) / tf.reduce_sum(tf.exp(logits), axis, keepdims=True)</code>.</li>\n",
        "\n",
        "\n",
        "```\n",
        "model.add(tf.keras.layers.Dropout(rate))\n",
        "```\n",
        "<li><code>rate</code>: Value of type float between 0 and 1, the value represents the fraction of the input units to drop.</li><br>"
      ],
      "metadata": {
        "id": "1g-78785WxM_"
      }
    },
    {
      "cell_type": "code",
      "source": [
        "# define model architecture\n",
        "model = tf.keras.Sequential()\n",
        "model.add(tf.keras.layers.Dense(64, input_shape=(X_train.shape[1],), name=\"input_layer\"))\n",
        "model.add(tf.keras.layers.Activation('relu'))\n",
        "model.add(tf.keras.layers.Dropout(0.2))\n",
        "model.add(tf.keras.layers.Dense(64, name=\"hidden_layer\"))\n",
        "model.add(tf.keras.layers.Activation('relu'))\n",
        "model.add(tf.keras.layers.Dropout(0.2))\n",
        "model.add(tf.keras.layers.Dense(10, name=\"output_layer\"))\n",
        "model.add(tf.keras.layers.Activation('softmax'))"
      ],
      "metadata": {
        "id": "cCh_orJsNsGW"
      },
      "execution_count": null,
      "outputs": []
    },
    {
      "cell_type": "markdown",
      "source": [
        "**<h1>Model Summary and Training</h1>**\n",
        "\n",
        "<li>As we can see, the model is defined having an input layer of 64 neurons, a hidden layer of 64 neurons, and an output layer of having 10 neurons.</li><br>"
      ],
      "metadata": {
        "id": "ARS_2wgwcJM8"
      }
    },
    {
      "cell_type": "code",
      "source": [
        "# print model attributes to check for layers/parameters\n",
        "print(model.summary())"
      ],
      "metadata": {
        "id": "MdLdQQwVNiU8",
        "colab": {
          "base_uri": "https://localhost:8080/"
        },
        "outputId": "0336c274-aafa-4eaf-d299-8d80d094f6c3"
      },
      "execution_count": null,
      "outputs": [
        {
          "output_type": "stream",
          "name": "stdout",
          "text": [
            "Model: \"sequential\"\n",
            "_________________________________________________________________\n",
            " Layer (type)                Output Shape              Param #   \n",
            "=================================================================\n",
            " input_layer (Dense)         (None, 64)                4160      \n",
            "                                                                 \n",
            " activation (Activation)     (None, 64)                0         \n",
            "                                                                 \n",
            " dropout (Dropout)           (None, 64)                0         \n",
            "                                                                 \n",
            " hidden_layer (Dense)        (None, 64)                4160      \n",
            "                                                                 \n",
            " activation_1 (Activation)   (None, 64)                0         \n",
            "                                                                 \n",
            " dropout_1 (Dropout)         (None, 64)                0         \n",
            "                                                                 \n",
            " output_layer (Dense)        (None, 10)                650       \n",
            "                                                                 \n",
            " activation_2 (Activation)   (None, 10)                0         \n",
            "                                                                 \n",
            "=================================================================\n",
            "Total params: 8,970\n",
            "Trainable params: 8,970\n",
            "Non-trainable params: 0\n",
            "_________________________________________________________________\n",
            "None\n"
          ]
        }
      ]
    },
    {
      "cell_type": "markdown",
      "source": [
        "**<h1>Compiling the Model</h1>**\n",
        "\n",
        "<li><code>model.compile()</code> configures the model for training.</li><br>\n",
        "\n",
        "<li><code>optimizer</code>: Built-in optimizer classes.</li>\n",
        "\n",
        "> <li><code>tf.keras.optimizers.Adam</code> implements the Adam algorithm, a stochastic gradient descent method that is based on adaptive estimation of first-order and second-order moments.</li>\n",
        "\n",
        "<li><code>loss</code>: Built-in optimizer loss functions.\n",
        "\n",
        "> <li><code>tf.keras.losses.CategoricalCrossentropy</code> computes the crossentropy loss between the labels and predictions.</li>\n",
        "\n",
        "<li><code>metrics</code>: List of metrics to be evaluated by the model during training and testing.\n",
        "\n",
        "> <li><code>tf.keras.metrics.Accuracy</code> calculates how often predictions match labels.</li>"
      ],
      "metadata": {
        "id": "kW05AGWEeORe"
      }
    },
    {
      "cell_type": "code",
      "source": [
        "# compile model\n",
        "model.compile(optimizer='adam', loss='categorical_crossentropy', metrics=['accuracy'])"
      ],
      "metadata": {
        "id": "pxcG79s_Nnh6"
      },
      "execution_count": null,
      "outputs": []
    },
    {
      "cell_type": "markdown",
      "source": [
        "**<h1>Training the Model</h1>**\n",
        "<li>Listed below are the parameters for the function in which we train model.</li>\n",
        "\n",
        "```\n",
        "model.fit(x, y, epochs, batch_size, validation_data)\n",
        "```\n",
        "\n",
        "<li><code>x</code>: The input data; in this case, <code>X_train</code> is the input data below.</li><br>\n",
        "\n",
        "<li><code>y</code>: The target data; in this case, <code>Y_train</code> is the target data below.</li><br>\n",
        "\n",
        "<li><code>epochs</code>: The number of epochs (an iteration over the entire x and y data provided) to train the model, in this case being <code> 400</code> below.</li><br>\n",
        "\n",
        "<li><code>batch_size</code>: The number of samples per gradient update, in this case, being <code>64</code> below.</li><br>\n",
        "\n",
        "<li><code>validation_data</code>: Data on which to evaluate the loss and any model metrics at the end of each epoch. The model will not be trained on this data.</li><br>\n",
        "\n",
        "\n",
        "  "
      ],
      "metadata": {
        "id": "Cw9hq5L7nQzk"
      }
    },
    {
      "cell_type": "code",
      "source": [
        "# train model\n",
        "history = model.fit(X_train, Y_train, epochs=400, batch_size=64, validation_data=(X_test, Y_test))"
      ],
      "metadata": {
        "id": "KmyypwPoNpVK",
        "colab": {
          "base_uri": "https://localhost:8080/"
        },
        "outputId": "c6663bce-45f9-4a6f-e827-03bb501a2e36"
      },
      "execution_count": null,
      "outputs": [
        {
          "output_type": "stream",
          "name": "stdout",
          "text": [
            "Epoch 1/400\n",
            "15/15 [==============================] - 2s 27ms/step - loss: 2.2981 - accuracy: 0.1314 - val_loss: 2.2894 - val_accuracy: 0.1935\n",
            "Epoch 2/400\n",
            "15/15 [==============================] - 0s 7ms/step - loss: 2.2849 - accuracy: 0.2004 - val_loss: 2.2752 - val_accuracy: 0.2269\n",
            "Epoch 3/400\n",
            "15/15 [==============================] - 0s 11ms/step - loss: 2.2674 - accuracy: 0.2962 - val_loss: 2.2544 - val_accuracy: 0.4071\n",
            "Epoch 4/400\n",
            "15/15 [==============================] - 0s 7ms/step - loss: 2.2424 - accuracy: 0.3664 - val_loss: 2.2261 - val_accuracy: 0.3882\n",
            "Epoch 5/400\n",
            "15/15 [==============================] - 0s 7ms/step - loss: 2.2082 - accuracy: 0.4154 - val_loss: 2.1869 - val_accuracy: 0.4549\n",
            "Epoch 6/400\n",
            "15/15 [==============================] - 0s 7ms/step - loss: 2.1675 - accuracy: 0.4287 - val_loss: 2.1378 - val_accuracy: 0.5751\n",
            "Epoch 7/400\n",
            "15/15 [==============================] - 0s 10ms/step - loss: 2.1129 - accuracy: 0.5267 - val_loss: 2.0683 - val_accuracy: 0.6363\n",
            "Epoch 8/400\n",
            "15/15 [==============================] - 0s 12ms/step - loss: 2.0364 - accuracy: 0.5679 - val_loss: 1.9845 - val_accuracy: 0.6652\n",
            "Epoch 9/400\n",
            "15/15 [==============================] - 0s 12ms/step - loss: 1.9557 - accuracy: 0.5724 - val_loss: 1.8869 - val_accuracy: 0.6952\n",
            "Epoch 10/400\n",
            "15/15 [==============================] - 0s 12ms/step - loss: 1.8532 - accuracy: 0.6180 - val_loss: 1.7857 - val_accuracy: 0.7041\n",
            "Epoch 11/400\n",
            "15/15 [==============================] - 0s 13ms/step - loss: 1.7340 - accuracy: 0.6470 - val_loss: 1.6714 - val_accuracy: 0.7041\n",
            "Epoch 12/400\n",
            "15/15 [==============================] - 0s 11ms/step - loss: 1.6428 - accuracy: 0.6414 - val_loss: 1.5497 - val_accuracy: 0.7620\n",
            "Epoch 13/400\n",
            "15/15 [==============================] - 0s 10ms/step - loss: 1.5177 - accuracy: 0.6904 - val_loss: 1.4369 - val_accuracy: 0.7720\n",
            "Epoch 14/400\n",
            "15/15 [==============================] - 0s 11ms/step - loss: 1.4240 - accuracy: 0.6759 - val_loss: 1.3315 - val_accuracy: 0.7620\n",
            "Epoch 15/400\n",
            "15/15 [==============================] - 0s 13ms/step - loss: 1.3124 - accuracy: 0.6949 - val_loss: 1.2300 - val_accuracy: 0.7564\n",
            "Epoch 16/400\n",
            "15/15 [==============================] - 0s 13ms/step - loss: 1.2334 - accuracy: 0.7004 - val_loss: 1.1334 - val_accuracy: 0.7753\n",
            "Epoch 17/400\n",
            "15/15 [==============================] - 0s 11ms/step - loss: 1.1457 - accuracy: 0.7105 - val_loss: 1.0578 - val_accuracy: 0.7809\n",
            "Epoch 18/400\n",
            "15/15 [==============================] - 0s 13ms/step - loss: 1.0944 - accuracy: 0.7004 - val_loss: 1.0057 - val_accuracy: 0.7697\n",
            "Epoch 19/400\n",
            "15/15 [==============================] - 0s 19ms/step - loss: 1.0310 - accuracy: 0.7294 - val_loss: 0.9324 - val_accuracy: 0.8154\n",
            "Epoch 20/400\n",
            "15/15 [==============================] - 0s 13ms/step - loss: 0.9858 - accuracy: 0.7472 - val_loss: 0.8831 - val_accuracy: 0.8331\n",
            "Epoch 21/400\n",
            "15/15 [==============================] - 0s 13ms/step - loss: 0.9340 - accuracy: 0.7695 - val_loss: 0.8317 - val_accuracy: 0.8276\n",
            "Epoch 22/400\n",
            "15/15 [==============================] - 0s 9ms/step - loss: 0.8975 - accuracy: 0.7539 - val_loss: 0.7903 - val_accuracy: 0.8387\n",
            "Epoch 23/400\n",
            "15/15 [==============================] - 0s 7ms/step - loss: 0.8382 - accuracy: 0.7739 - val_loss: 0.7592 - val_accuracy: 0.8265\n",
            "Epoch 24/400\n",
            "15/15 [==============================] - 0s 9ms/step - loss: 0.8228 - accuracy: 0.7795 - val_loss: 0.7244 - val_accuracy: 0.8420\n",
            "Epoch 25/400\n",
            "15/15 [==============================] - 0s 6ms/step - loss: 0.8001 - accuracy: 0.7762 - val_loss: 0.6978 - val_accuracy: 0.8309\n",
            "Epoch 26/400\n",
            "15/15 [==============================] - 0s 8ms/step - loss: 0.7688 - accuracy: 0.7929 - val_loss: 0.6661 - val_accuracy: 0.8443\n",
            "Epoch 27/400\n",
            "15/15 [==============================] - 0s 9ms/step - loss: 0.7412 - accuracy: 0.7851 - val_loss: 0.6452 - val_accuracy: 0.8454\n",
            "Epoch 28/400\n",
            "15/15 [==============================] - 0s 9ms/step - loss: 0.6980 - accuracy: 0.8018 - val_loss: 0.6188 - val_accuracy: 0.8476\n",
            "Epoch 29/400\n",
            "15/15 [==============================] - 0s 7ms/step - loss: 0.6851 - accuracy: 0.7973 - val_loss: 0.6122 - val_accuracy: 0.8476\n",
            "Epoch 30/400\n",
            "15/15 [==============================] - 0s 7ms/step - loss: 0.6940 - accuracy: 0.7784 - val_loss: 0.5964 - val_accuracy: 0.8699\n",
            "Epoch 31/400\n",
            "15/15 [==============================] - 0s 7ms/step - loss: 0.6529 - accuracy: 0.8118 - val_loss: 0.5740 - val_accuracy: 0.8532\n",
            "Epoch 32/400\n",
            "15/15 [==============================] - 0s 7ms/step - loss: 0.6333 - accuracy: 0.8241 - val_loss: 0.5567 - val_accuracy: 0.8565\n",
            "Epoch 33/400\n",
            "15/15 [==============================] - 0s 8ms/step - loss: 0.6616 - accuracy: 0.7873 - val_loss: 0.5439 - val_accuracy: 0.8587\n",
            "Epoch 34/400\n",
            "15/15 [==============================] - 0s 7ms/step - loss: 0.6165 - accuracy: 0.8252 - val_loss: 0.5300 - val_accuracy: 0.8699\n",
            "Epoch 35/400\n",
            "15/15 [==============================] - 0s 9ms/step - loss: 0.6068 - accuracy: 0.8296 - val_loss: 0.5190 - val_accuracy: 0.8754\n",
            "Epoch 36/400\n",
            "15/15 [==============================] - 0s 10ms/step - loss: 0.5727 - accuracy: 0.8241 - val_loss: 0.5030 - val_accuracy: 0.8843\n",
            "Epoch 37/400\n",
            "15/15 [==============================] - 0s 10ms/step - loss: 0.5713 - accuracy: 0.8363 - val_loss: 0.4905 - val_accuracy: 0.8776\n",
            "Epoch 38/400\n",
            "15/15 [==============================] - 0s 7ms/step - loss: 0.5593 - accuracy: 0.8441 - val_loss: 0.4803 - val_accuracy: 0.8732\n",
            "Epoch 39/400\n",
            "15/15 [==============================] - 0s 9ms/step - loss: 0.5370 - accuracy: 0.8430 - val_loss: 0.4720 - val_accuracy: 0.8710\n",
            "Epoch 40/400\n",
            "15/15 [==============================] - 0s 9ms/step - loss: 0.5303 - accuracy: 0.8352 - val_loss: 0.4616 - val_accuracy: 0.8943\n",
            "Epoch 41/400\n",
            "15/15 [==============================] - 0s 7ms/step - loss: 0.5381 - accuracy: 0.8196 - val_loss: 0.4537 - val_accuracy: 0.8921\n",
            "Epoch 42/400\n",
            "15/15 [==============================] - 0s 10ms/step - loss: 0.5285 - accuracy: 0.8430 - val_loss: 0.4430 - val_accuracy: 0.8954\n",
            "Epoch 43/400\n",
            "15/15 [==============================] - 0s 7ms/step - loss: 0.5018 - accuracy: 0.8508 - val_loss: 0.4336 - val_accuracy: 0.8977\n",
            "Epoch 44/400\n",
            "15/15 [==============================] - 0s 9ms/step - loss: 0.4895 - accuracy: 0.8597 - val_loss: 0.4250 - val_accuracy: 0.8977\n",
            "Epoch 45/400\n",
            "15/15 [==============================] - 0s 9ms/step - loss: 0.4954 - accuracy: 0.8486 - val_loss: 0.4190 - val_accuracy: 0.9021\n",
            "Epoch 46/400\n",
            "15/15 [==============================] - 0s 7ms/step - loss: 0.4783 - accuracy: 0.8586 - val_loss: 0.4176 - val_accuracy: 0.8943\n",
            "Epoch 47/400\n",
            "15/15 [==============================] - 0s 7ms/step - loss: 0.4762 - accuracy: 0.8552 - val_loss: 0.4040 - val_accuracy: 0.8977\n",
            "Epoch 48/400\n",
            "15/15 [==============================] - 0s 9ms/step - loss: 0.4427 - accuracy: 0.8708 - val_loss: 0.3978 - val_accuracy: 0.8988\n",
            "Epoch 49/400\n",
            "15/15 [==============================] - 0s 6ms/step - loss: 0.4442 - accuracy: 0.8764 - val_loss: 0.4063 - val_accuracy: 0.8854\n",
            "Epoch 50/400\n",
            "15/15 [==============================] - 0s 8ms/step - loss: 0.4591 - accuracy: 0.8530 - val_loss: 0.3917 - val_accuracy: 0.8988\n",
            "Epoch 51/400\n",
            "15/15 [==============================] - 0s 8ms/step - loss: 0.4608 - accuracy: 0.8508 - val_loss: 0.3802 - val_accuracy: 0.9055\n",
            "Epoch 52/400\n",
            "15/15 [==============================] - 0s 7ms/step - loss: 0.4358 - accuracy: 0.8586 - val_loss: 0.3724 - val_accuracy: 0.9088\n",
            "Epoch 53/400\n",
            "15/15 [==============================] - 0s 8ms/step - loss: 0.4233 - accuracy: 0.8742 - val_loss: 0.3754 - val_accuracy: 0.8966\n",
            "Epoch 54/400\n",
            "15/15 [==============================] - 0s 7ms/step - loss: 0.4183 - accuracy: 0.8586 - val_loss: 0.3807 - val_accuracy: 0.8954\n",
            "Epoch 55/400\n",
            "15/15 [==============================] - 0s 10ms/step - loss: 0.4114 - accuracy: 0.8697 - val_loss: 0.3580 - val_accuracy: 0.9088\n",
            "Epoch 56/400\n",
            "15/15 [==============================] - 0s 10ms/step - loss: 0.4153 - accuracy: 0.8808 - val_loss: 0.3778 - val_accuracy: 0.8932\n",
            "Epoch 57/400\n",
            "15/15 [==============================] - 0s 7ms/step - loss: 0.4206 - accuracy: 0.8664 - val_loss: 0.3561 - val_accuracy: 0.9110\n",
            "Epoch 58/400\n",
            "15/15 [==============================] - 0s 8ms/step - loss: 0.3880 - accuracy: 0.8842 - val_loss: 0.3439 - val_accuracy: 0.9121\n",
            "Epoch 59/400\n",
            "15/15 [==============================] - 0s 10ms/step - loss: 0.3922 - accuracy: 0.8808 - val_loss: 0.3420 - val_accuracy: 0.9110\n",
            "Epoch 60/400\n",
            "15/15 [==============================] - 0s 9ms/step - loss: 0.3694 - accuracy: 0.8931 - val_loss: 0.3417 - val_accuracy: 0.9177\n",
            "Epoch 61/400\n",
            "15/15 [==============================] - 0s 10ms/step - loss: 0.3768 - accuracy: 0.8831 - val_loss: 0.3361 - val_accuracy: 0.9088\n",
            "Epoch 62/400\n",
            "15/15 [==============================] - 0s 10ms/step - loss: 0.3860 - accuracy: 0.8797 - val_loss: 0.3282 - val_accuracy: 0.9099\n",
            "Epoch 63/400\n",
            "15/15 [==============================] - 0s 7ms/step - loss: 0.3583 - accuracy: 0.8864 - val_loss: 0.3239 - val_accuracy: 0.9132\n",
            "Epoch 64/400\n",
            "15/15 [==============================] - 0s 7ms/step - loss: 0.3524 - accuracy: 0.8987 - val_loss: 0.3192 - val_accuracy: 0.9255\n",
            "Epoch 65/400\n",
            "15/15 [==============================] - 0s 6ms/step - loss: 0.3566 - accuracy: 0.8886 - val_loss: 0.3162 - val_accuracy: 0.9166\n",
            "Epoch 66/400\n",
            "15/15 [==============================] - 0s 7ms/step - loss: 0.3286 - accuracy: 0.8942 - val_loss: 0.3111 - val_accuracy: 0.9143\n",
            "Epoch 67/400\n",
            "15/15 [==============================] - 0s 7ms/step - loss: 0.3378 - accuracy: 0.9020 - val_loss: 0.3102 - val_accuracy: 0.9177\n",
            "Epoch 68/400\n",
            "15/15 [==============================] - 0s 7ms/step - loss: 0.3595 - accuracy: 0.8886 - val_loss: 0.3144 - val_accuracy: 0.9099\n",
            "Epoch 69/400\n",
            "15/15 [==============================] - 0s 10ms/step - loss: 0.3330 - accuracy: 0.9076 - val_loss: 0.3088 - val_accuracy: 0.9088\n",
            "Epoch 70/400\n",
            "15/15 [==============================] - 0s 8ms/step - loss: 0.3512 - accuracy: 0.8964 - val_loss: 0.3137 - val_accuracy: 0.9221\n",
            "Epoch 71/400\n",
            "15/15 [==============================] - 0s 7ms/step - loss: 0.3414 - accuracy: 0.8898 - val_loss: 0.3229 - val_accuracy: 0.9132\n",
            "Epoch 72/400\n",
            "15/15 [==============================] - 0s 7ms/step - loss: 0.3289 - accuracy: 0.8998 - val_loss: 0.2975 - val_accuracy: 0.9266\n",
            "Epoch 73/400\n",
            "15/15 [==============================] - 0s 9ms/step - loss: 0.2973 - accuracy: 0.9143 - val_loss: 0.2926 - val_accuracy: 0.9288\n",
            "Epoch 74/400\n",
            "15/15 [==============================] - 0s 8ms/step - loss: 0.2997 - accuracy: 0.9131 - val_loss: 0.2898 - val_accuracy: 0.9310\n",
            "Epoch 75/400\n",
            "15/15 [==============================] - 0s 9ms/step - loss: 0.3078 - accuracy: 0.9131 - val_loss: 0.2865 - val_accuracy: 0.9321\n",
            "Epoch 76/400\n",
            "15/15 [==============================] - 0s 10ms/step - loss: 0.2996 - accuracy: 0.9154 - val_loss: 0.2842 - val_accuracy: 0.9255\n",
            "Epoch 77/400\n",
            "15/15 [==============================] - 0s 7ms/step - loss: 0.3048 - accuracy: 0.9098 - val_loss: 0.2859 - val_accuracy: 0.9210\n",
            "Epoch 78/400\n",
            "15/15 [==============================] - 0s 10ms/step - loss: 0.2898 - accuracy: 0.9165 - val_loss: 0.2886 - val_accuracy: 0.9221\n",
            "Epoch 79/400\n",
            "15/15 [==============================] - 0s 7ms/step - loss: 0.2901 - accuracy: 0.9020 - val_loss: 0.2775 - val_accuracy: 0.9299\n",
            "Epoch 80/400\n",
            "15/15 [==============================] - 0s 7ms/step - loss: 0.2770 - accuracy: 0.9254 - val_loss: 0.2719 - val_accuracy: 0.9366\n",
            "Epoch 81/400\n",
            "15/15 [==============================] - 0s 7ms/step - loss: 0.3037 - accuracy: 0.9098 - val_loss: 0.2766 - val_accuracy: 0.9266\n",
            "Epoch 82/400\n",
            "15/15 [==============================] - 0s 11ms/step - loss: 0.2913 - accuracy: 0.9065 - val_loss: 0.2693 - val_accuracy: 0.9310\n",
            "Epoch 83/400\n",
            "15/15 [==============================] - 0s 7ms/step - loss: 0.2681 - accuracy: 0.9209 - val_loss: 0.2675 - val_accuracy: 0.9299\n",
            "Epoch 84/400\n",
            "15/15 [==============================] - 0s 7ms/step - loss: 0.2779 - accuracy: 0.9131 - val_loss: 0.2664 - val_accuracy: 0.9299\n",
            "Epoch 85/400\n",
            "15/15 [==============================] - 0s 10ms/step - loss: 0.2718 - accuracy: 0.9254 - val_loss: 0.2609 - val_accuracy: 0.9333\n",
            "Epoch 86/400\n",
            "15/15 [==============================] - 0s 10ms/step - loss: 0.2656 - accuracy: 0.9187 - val_loss: 0.2605 - val_accuracy: 0.9321\n",
            "Epoch 87/400\n",
            "15/15 [==============================] - 0s 10ms/step - loss: 0.2751 - accuracy: 0.9120 - val_loss: 0.2575 - val_accuracy: 0.9344\n",
            "Epoch 88/400\n",
            "15/15 [==============================] - 0s 10ms/step - loss: 0.2687 - accuracy: 0.9198 - val_loss: 0.2594 - val_accuracy: 0.9344\n",
            "Epoch 89/400\n",
            "15/15 [==============================] - 0s 8ms/step - loss: 0.2816 - accuracy: 0.9198 - val_loss: 0.2541 - val_accuracy: 0.9333\n",
            "Epoch 90/400\n",
            "15/15 [==============================] - 0s 7ms/step - loss: 0.2639 - accuracy: 0.9243 - val_loss: 0.2564 - val_accuracy: 0.9310\n",
            "Epoch 91/400\n",
            "15/15 [==============================] - 0s 8ms/step - loss: 0.2629 - accuracy: 0.9209 - val_loss: 0.2487 - val_accuracy: 0.9422\n",
            "Epoch 92/400\n",
            "15/15 [==============================] - 0s 7ms/step - loss: 0.2516 - accuracy: 0.9220 - val_loss: 0.2515 - val_accuracy: 0.9355\n",
            "Epoch 93/400\n",
            "15/15 [==============================] - 0s 9ms/step - loss: 0.2546 - accuracy: 0.9232 - val_loss: 0.2481 - val_accuracy: 0.9355\n",
            "Epoch 94/400\n",
            "15/15 [==============================] - 0s 10ms/step - loss: 0.2632 - accuracy: 0.9198 - val_loss: 0.2408 - val_accuracy: 0.9410\n",
            "Epoch 95/400\n",
            "15/15 [==============================] - 0s 11ms/step - loss: 0.2495 - accuracy: 0.9243 - val_loss: 0.2404 - val_accuracy: 0.9433\n",
            "Epoch 96/400\n",
            "15/15 [==============================] - 0s 10ms/step - loss: 0.2457 - accuracy: 0.9287 - val_loss: 0.2409 - val_accuracy: 0.9399\n",
            "Epoch 97/400\n",
            "15/15 [==============================] - 0s 7ms/step - loss: 0.2370 - accuracy: 0.9332 - val_loss: 0.2402 - val_accuracy: 0.9388\n",
            "Epoch 98/400\n",
            "15/15 [==============================] - 0s 7ms/step - loss: 0.2209 - accuracy: 0.9343 - val_loss: 0.2345 - val_accuracy: 0.9410\n",
            "Epoch 99/400\n",
            "15/15 [==============================] - 0s 7ms/step - loss: 0.2368 - accuracy: 0.9243 - val_loss: 0.2339 - val_accuracy: 0.9399\n",
            "Epoch 100/400\n",
            "15/15 [==============================] - 0s 12ms/step - loss: 0.2149 - accuracy: 0.9365 - val_loss: 0.2334 - val_accuracy: 0.9399\n",
            "Epoch 101/400\n",
            "15/15 [==============================] - 0s 12ms/step - loss: 0.2332 - accuracy: 0.9354 - val_loss: 0.2323 - val_accuracy: 0.9477\n",
            "Epoch 102/400\n",
            "15/15 [==============================] - 0s 12ms/step - loss: 0.2291 - accuracy: 0.9243 - val_loss: 0.2316 - val_accuracy: 0.9433\n",
            "Epoch 103/400\n",
            "15/15 [==============================] - 0s 12ms/step - loss: 0.2275 - accuracy: 0.9388 - val_loss: 0.2332 - val_accuracy: 0.9377\n",
            "Epoch 104/400\n",
            "15/15 [==============================] - 0s 12ms/step - loss: 0.2319 - accuracy: 0.9254 - val_loss: 0.2354 - val_accuracy: 0.9388\n",
            "Epoch 105/400\n",
            "15/15 [==============================] - 0s 12ms/step - loss: 0.1989 - accuracy: 0.9443 - val_loss: 0.2338 - val_accuracy: 0.9433\n",
            "Epoch 106/400\n",
            "15/15 [==============================] - 0s 12ms/step - loss: 0.2247 - accuracy: 0.9298 - val_loss: 0.2298 - val_accuracy: 0.9444\n",
            "Epoch 107/400\n",
            "15/15 [==============================] - 0s 13ms/step - loss: 0.2162 - accuracy: 0.9265 - val_loss: 0.2279 - val_accuracy: 0.9444\n",
            "Epoch 108/400\n",
            "15/15 [==============================] - 0s 12ms/step - loss: 0.1917 - accuracy: 0.9432 - val_loss: 0.2294 - val_accuracy: 0.9433\n",
            "Epoch 109/400\n",
            "15/15 [==============================] - 0s 12ms/step - loss: 0.2163 - accuracy: 0.9432 - val_loss: 0.2305 - val_accuracy: 0.9477\n",
            "Epoch 110/400\n",
            "15/15 [==============================] - 0s 14ms/step - loss: 0.2309 - accuracy: 0.9298 - val_loss: 0.2487 - val_accuracy: 0.9344\n",
            "Epoch 111/400\n",
            "15/15 [==============================] - 0s 13ms/step - loss: 0.2059 - accuracy: 0.9321 - val_loss: 0.2249 - val_accuracy: 0.9422\n",
            "Epoch 112/400\n",
            "15/15 [==============================] - 0s 11ms/step - loss: 0.1843 - accuracy: 0.9521 - val_loss: 0.2220 - val_accuracy: 0.9499\n",
            "Epoch 113/400\n",
            "15/15 [==============================] - 0s 12ms/step - loss: 0.2081 - accuracy: 0.9388 - val_loss: 0.2207 - val_accuracy: 0.9499\n",
            "Epoch 114/400\n",
            "15/15 [==============================] - 0s 13ms/step - loss: 0.1856 - accuracy: 0.9432 - val_loss: 0.2170 - val_accuracy: 0.9455\n",
            "Epoch 115/400\n",
            "15/15 [==============================] - 0s 10ms/step - loss: 0.2067 - accuracy: 0.9310 - val_loss: 0.2162 - val_accuracy: 0.9477\n",
            "Epoch 116/400\n",
            "15/15 [==============================] - 0s 7ms/step - loss: 0.1987 - accuracy: 0.9276 - val_loss: 0.2240 - val_accuracy: 0.9499\n",
            "Epoch 117/400\n",
            "15/15 [==============================] - 0s 10ms/step - loss: 0.1896 - accuracy: 0.9488 - val_loss: 0.2218 - val_accuracy: 0.9444\n",
            "Epoch 118/400\n",
            "15/15 [==============================] - 0s 10ms/step - loss: 0.1973 - accuracy: 0.9410 - val_loss: 0.2181 - val_accuracy: 0.9399\n",
            "Epoch 119/400\n",
            "15/15 [==============================] - 0s 7ms/step - loss: 0.2001 - accuracy: 0.9354 - val_loss: 0.2147 - val_accuracy: 0.9511\n",
            "Epoch 120/400\n",
            "15/15 [==============================] - 0s 6ms/step - loss: 0.1839 - accuracy: 0.9432 - val_loss: 0.2142 - val_accuracy: 0.9422\n",
            "Epoch 121/400\n",
            "15/15 [==============================] - 0s 10ms/step - loss: 0.1793 - accuracy: 0.9477 - val_loss: 0.2130 - val_accuracy: 0.9433\n",
            "Epoch 122/400\n",
            "15/15 [==============================] - 0s 8ms/step - loss: 0.1813 - accuracy: 0.9499 - val_loss: 0.2095 - val_accuracy: 0.9433\n",
            "Epoch 123/400\n",
            "15/15 [==============================] - 0s 7ms/step - loss: 0.1860 - accuracy: 0.9432 - val_loss: 0.2099 - val_accuracy: 0.9511\n",
            "Epoch 124/400\n",
            "15/15 [==============================] - 0s 7ms/step - loss: 0.1758 - accuracy: 0.9376 - val_loss: 0.2089 - val_accuracy: 0.9499\n",
            "Epoch 125/400\n",
            "15/15 [==============================] - 0s 7ms/step - loss: 0.1957 - accuracy: 0.9432 - val_loss: 0.2124 - val_accuracy: 0.9488\n",
            "Epoch 126/400\n",
            "15/15 [==============================] - 0s 7ms/step - loss: 0.1625 - accuracy: 0.9621 - val_loss: 0.2095 - val_accuracy: 0.9522\n",
            "Epoch 127/400\n",
            "15/15 [==============================] - 0s 9ms/step - loss: 0.1782 - accuracy: 0.9454 - val_loss: 0.2154 - val_accuracy: 0.9444\n",
            "Epoch 128/400\n",
            "15/15 [==============================] - 0s 7ms/step - loss: 0.1903 - accuracy: 0.9410 - val_loss: 0.2164 - val_accuracy: 0.9444\n",
            "Epoch 129/400\n",
            "15/15 [==============================] - 0s 7ms/step - loss: 0.1898 - accuracy: 0.9521 - val_loss: 0.2128 - val_accuracy: 0.9499\n",
            "Epoch 130/400\n",
            "15/15 [==============================] - 0s 9ms/step - loss: 0.1891 - accuracy: 0.9410 - val_loss: 0.2045 - val_accuracy: 0.9477\n",
            "Epoch 131/400\n",
            "15/15 [==============================] - 0s 8ms/step - loss: 0.1719 - accuracy: 0.9488 - val_loss: 0.2049 - val_accuracy: 0.9488\n",
            "Epoch 132/400\n",
            "15/15 [==============================] - 0s 9ms/step - loss: 0.1741 - accuracy: 0.9465 - val_loss: 0.2047 - val_accuracy: 0.9488\n",
            "Epoch 133/400\n",
            "15/15 [==============================] - 0s 10ms/step - loss: 0.1633 - accuracy: 0.9543 - val_loss: 0.2043 - val_accuracy: 0.9499\n",
            "Epoch 134/400\n",
            "15/15 [==============================] - 0s 8ms/step - loss: 0.1737 - accuracy: 0.9488 - val_loss: 0.2019 - val_accuracy: 0.9477\n",
            "Epoch 135/400\n",
            "15/15 [==============================] - 0s 7ms/step - loss: 0.1714 - accuracy: 0.9477 - val_loss: 0.2051 - val_accuracy: 0.9522\n",
            "Epoch 136/400\n",
            "15/15 [==============================] - 0s 7ms/step - loss: 0.1470 - accuracy: 0.9566 - val_loss: 0.2034 - val_accuracy: 0.9433\n",
            "Epoch 137/400\n",
            "15/15 [==============================] - 0s 7ms/step - loss: 0.1683 - accuracy: 0.9555 - val_loss: 0.2047 - val_accuracy: 0.9444\n",
            "Epoch 138/400\n",
            "15/15 [==============================] - 0s 7ms/step - loss: 0.1598 - accuracy: 0.9588 - val_loss: 0.2034 - val_accuracy: 0.9444\n",
            "Epoch 139/400\n",
            "15/15 [==============================] - 0s 8ms/step - loss: 0.1615 - accuracy: 0.9421 - val_loss: 0.2053 - val_accuracy: 0.9477\n",
            "Epoch 140/400\n",
            "15/15 [==============================] - 0s 7ms/step - loss: 0.1696 - accuracy: 0.9454 - val_loss: 0.2145 - val_accuracy: 0.9455\n",
            "Epoch 141/400\n",
            "15/15 [==============================] - 0s 11ms/step - loss: 0.1434 - accuracy: 0.9655 - val_loss: 0.2021 - val_accuracy: 0.9477\n",
            "Epoch 142/400\n",
            "15/15 [==============================] - 0s 10ms/step - loss: 0.1536 - accuracy: 0.9543 - val_loss: 0.2023 - val_accuracy: 0.9511\n",
            "Epoch 143/400\n",
            "15/15 [==============================] - 0s 8ms/step - loss: 0.1537 - accuracy: 0.9532 - val_loss: 0.1986 - val_accuracy: 0.9488\n",
            "Epoch 144/400\n",
            "15/15 [==============================] - 0s 10ms/step - loss: 0.1456 - accuracy: 0.9566 - val_loss: 0.2009 - val_accuracy: 0.9466\n",
            "Epoch 145/400\n",
            "15/15 [==============================] - 0s 10ms/step - loss: 0.1516 - accuracy: 0.9566 - val_loss: 0.2000 - val_accuracy: 0.9455\n",
            "Epoch 146/400\n",
            "15/15 [==============================] - 0s 10ms/step - loss: 0.1436 - accuracy: 0.9610 - val_loss: 0.1967 - val_accuracy: 0.9488\n",
            "Epoch 147/400\n",
            "15/15 [==============================] - 0s 10ms/step - loss: 0.1502 - accuracy: 0.9566 - val_loss: 0.1955 - val_accuracy: 0.9477\n",
            "Epoch 148/400\n",
            "15/15 [==============================] - 0s 9ms/step - loss: 0.1486 - accuracy: 0.9566 - val_loss: 0.1959 - val_accuracy: 0.9488\n",
            "Epoch 149/400\n",
            "15/15 [==============================] - 0s 9ms/step - loss: 0.1358 - accuracy: 0.9621 - val_loss: 0.1988 - val_accuracy: 0.9511\n",
            "Epoch 150/400\n",
            "15/15 [==============================] - 0s 10ms/step - loss: 0.1286 - accuracy: 0.9666 - val_loss: 0.1956 - val_accuracy: 0.9511\n",
            "Epoch 151/400\n",
            "15/15 [==============================] - 0s 7ms/step - loss: 0.1459 - accuracy: 0.9599 - val_loss: 0.1942 - val_accuracy: 0.9488\n",
            "Epoch 152/400\n",
            "15/15 [==============================] - 0s 7ms/step - loss: 0.1214 - accuracy: 0.9666 - val_loss: 0.1961 - val_accuracy: 0.9488\n",
            "Epoch 153/400\n",
            "15/15 [==============================] - 0s 10ms/step - loss: 0.1433 - accuracy: 0.9499 - val_loss: 0.1933 - val_accuracy: 0.9511\n",
            "Epoch 154/400\n",
            "15/15 [==============================] - 0s 7ms/step - loss: 0.1279 - accuracy: 0.9588 - val_loss: 0.1981 - val_accuracy: 0.9499\n",
            "Epoch 155/400\n",
            "15/15 [==============================] - 0s 7ms/step - loss: 0.1436 - accuracy: 0.9521 - val_loss: 0.2129 - val_accuracy: 0.9455\n",
            "Epoch 156/400\n",
            "15/15 [==============================] - 0s 8ms/step - loss: 0.1579 - accuracy: 0.9532 - val_loss: 0.1982 - val_accuracy: 0.9522\n",
            "Epoch 157/400\n",
            "15/15 [==============================] - 0s 10ms/step - loss: 0.1272 - accuracy: 0.9543 - val_loss: 0.1907 - val_accuracy: 0.9499\n",
            "Epoch 158/400\n",
            "15/15 [==============================] - 0s 10ms/step - loss: 0.1475 - accuracy: 0.9588 - val_loss: 0.1921 - val_accuracy: 0.9488\n",
            "Epoch 159/400\n",
            "15/15 [==============================] - 0s 8ms/step - loss: 0.1297 - accuracy: 0.9655 - val_loss: 0.1936 - val_accuracy: 0.9533\n",
            "Epoch 160/400\n",
            "15/15 [==============================] - 0s 9ms/step - loss: 0.1319 - accuracy: 0.9588 - val_loss: 0.1950 - val_accuracy: 0.9544\n",
            "Epoch 161/400\n",
            "15/15 [==============================] - 0s 11ms/step - loss: 0.1340 - accuracy: 0.9621 - val_loss: 0.1956 - val_accuracy: 0.9533\n",
            "Epoch 162/400\n",
            "15/15 [==============================] - 0s 10ms/step - loss: 0.1235 - accuracy: 0.9688 - val_loss: 0.1954 - val_accuracy: 0.9522\n",
            "Epoch 163/400\n",
            "15/15 [==============================] - 0s 7ms/step - loss: 0.1276 - accuracy: 0.9666 - val_loss: 0.1948 - val_accuracy: 0.9544\n",
            "Epoch 164/400\n",
            "15/15 [==============================] - 0s 7ms/step - loss: 0.1474 - accuracy: 0.9532 - val_loss: 0.1933 - val_accuracy: 0.9533\n",
            "Epoch 165/400\n",
            "15/15 [==============================] - 0s 7ms/step - loss: 0.1442 - accuracy: 0.9577 - val_loss: 0.1928 - val_accuracy: 0.9533\n",
            "Epoch 166/400\n",
            "15/15 [==============================] - 0s 7ms/step - loss: 0.1381 - accuracy: 0.9577 - val_loss: 0.2094 - val_accuracy: 0.9410\n",
            "Epoch 167/400\n",
            "15/15 [==============================] - 0s 10ms/step - loss: 0.1185 - accuracy: 0.9644 - val_loss: 0.1976 - val_accuracy: 0.9544\n",
            "Epoch 168/400\n",
            "15/15 [==============================] - 0s 10ms/step - loss: 0.1220 - accuracy: 0.9621 - val_loss: 0.1929 - val_accuracy: 0.9555\n",
            "Epoch 169/400\n",
            "15/15 [==============================] - 0s 8ms/step - loss: 0.1235 - accuracy: 0.9577 - val_loss: 0.2007 - val_accuracy: 0.9488\n",
            "Epoch 170/400\n",
            "15/15 [==============================] - 0s 8ms/step - loss: 0.1269 - accuracy: 0.9599 - val_loss: 0.1950 - val_accuracy: 0.9555\n",
            "Epoch 171/400\n",
            "15/15 [==============================] - 0s 10ms/step - loss: 0.1277 - accuracy: 0.9621 - val_loss: 0.1917 - val_accuracy: 0.9544\n",
            "Epoch 172/400\n",
            "15/15 [==============================] - 0s 7ms/step - loss: 0.1252 - accuracy: 0.9688 - val_loss: 0.1920 - val_accuracy: 0.9544\n",
            "Epoch 173/400\n",
            "15/15 [==============================] - 0s 9ms/step - loss: 0.1140 - accuracy: 0.9699 - val_loss: 0.1929 - val_accuracy: 0.9544\n",
            "Epoch 174/400\n",
            "15/15 [==============================] - 0s 7ms/step - loss: 0.1155 - accuracy: 0.9722 - val_loss: 0.1931 - val_accuracy: 0.9511\n",
            "Epoch 175/400\n",
            "15/15 [==============================] - 0s 11ms/step - loss: 0.1026 - accuracy: 0.9722 - val_loss: 0.1906 - val_accuracy: 0.9533\n",
            "Epoch 176/400\n",
            "15/15 [==============================] - 0s 9ms/step - loss: 0.1124 - accuracy: 0.9688 - val_loss: 0.1874 - val_accuracy: 0.9544\n",
            "Epoch 177/400\n",
            "15/15 [==============================] - 0s 8ms/step - loss: 0.1293 - accuracy: 0.9588 - val_loss: 0.1896 - val_accuracy: 0.9522\n",
            "Epoch 178/400\n",
            "15/15 [==============================] - 0s 8ms/step - loss: 0.1202 - accuracy: 0.9710 - val_loss: 0.1914 - val_accuracy: 0.9544\n",
            "Epoch 179/400\n",
            "15/15 [==============================] - 0s 10ms/step - loss: 0.1036 - accuracy: 0.9744 - val_loss: 0.1900 - val_accuracy: 0.9544\n",
            "Epoch 180/400\n",
            "15/15 [==============================] - 0s 8ms/step - loss: 0.1147 - accuracy: 0.9644 - val_loss: 0.1901 - val_accuracy: 0.9566\n",
            "Epoch 181/400\n",
            "15/15 [==============================] - 0s 8ms/step - loss: 0.1127 - accuracy: 0.9722 - val_loss: 0.1894 - val_accuracy: 0.9555\n",
            "Epoch 182/400\n",
            "15/15 [==============================] - 0s 10ms/step - loss: 0.1134 - accuracy: 0.9677 - val_loss: 0.1870 - val_accuracy: 0.9533\n",
            "Epoch 183/400\n",
            "15/15 [==============================] - 0s 10ms/step - loss: 0.1169 - accuracy: 0.9644 - val_loss: 0.1872 - val_accuracy: 0.9544\n",
            "Epoch 184/400\n",
            "15/15 [==============================] - 0s 7ms/step - loss: 0.1016 - accuracy: 0.9722 - val_loss: 0.1889 - val_accuracy: 0.9544\n",
            "Epoch 185/400\n",
            "15/15 [==============================] - 0s 10ms/step - loss: 0.1145 - accuracy: 0.9655 - val_loss: 0.1929 - val_accuracy: 0.9522\n",
            "Epoch 186/400\n",
            "15/15 [==============================] - 0s 8ms/step - loss: 0.1086 - accuracy: 0.9688 - val_loss: 0.1924 - val_accuracy: 0.9533\n",
            "Epoch 187/400\n",
            "15/15 [==============================] - 0s 10ms/step - loss: 0.1087 - accuracy: 0.9610 - val_loss: 0.1870 - val_accuracy: 0.9566\n",
            "Epoch 188/400\n",
            "15/15 [==============================] - 0s 10ms/step - loss: 0.1167 - accuracy: 0.9621 - val_loss: 0.1892 - val_accuracy: 0.9577\n",
            "Epoch 189/400\n",
            "15/15 [==============================] - 0s 12ms/step - loss: 0.1020 - accuracy: 0.9699 - val_loss: 0.1898 - val_accuracy: 0.9544\n",
            "Epoch 190/400\n",
            "15/15 [==============================] - 0s 15ms/step - loss: 0.1123 - accuracy: 0.9688 - val_loss: 0.1892 - val_accuracy: 0.9555\n",
            "Epoch 191/400\n",
            "15/15 [==============================] - 0s 11ms/step - loss: 0.1083 - accuracy: 0.9644 - val_loss: 0.1873 - val_accuracy: 0.9544\n",
            "Epoch 192/400\n",
            "15/15 [==============================] - 0s 12ms/step - loss: 0.1012 - accuracy: 0.9733 - val_loss: 0.1918 - val_accuracy: 0.9522\n",
            "Epoch 193/400\n",
            "15/15 [==============================] - 0s 14ms/step - loss: 0.1099 - accuracy: 0.9666 - val_loss: 0.1882 - val_accuracy: 0.9566\n",
            "Epoch 194/400\n",
            "15/15 [==============================] - 0s 13ms/step - loss: 0.1049 - accuracy: 0.9677 - val_loss: 0.1847 - val_accuracy: 0.9566\n",
            "Epoch 195/400\n",
            "15/15 [==============================] - 0s 12ms/step - loss: 0.1014 - accuracy: 0.9699 - val_loss: 0.1844 - val_accuracy: 0.9577\n",
            "Epoch 196/400\n",
            "15/15 [==============================] - 0s 12ms/step - loss: 0.1099 - accuracy: 0.9599 - val_loss: 0.1854 - val_accuracy: 0.9544\n",
            "Epoch 197/400\n",
            "15/15 [==============================] - 0s 11ms/step - loss: 0.1161 - accuracy: 0.9621 - val_loss: 0.1833 - val_accuracy: 0.9544\n",
            "Epoch 198/400\n",
            "15/15 [==============================] - 0s 11ms/step - loss: 0.0979 - accuracy: 0.9677 - val_loss: 0.1858 - val_accuracy: 0.9511\n",
            "Epoch 199/400\n",
            "15/15 [==============================] - 0s 11ms/step - loss: 0.0961 - accuracy: 0.9755 - val_loss: 0.1851 - val_accuracy: 0.9555\n",
            "Epoch 200/400\n",
            "15/15 [==============================] - 0s 10ms/step - loss: 0.0981 - accuracy: 0.9699 - val_loss: 0.1827 - val_accuracy: 0.9555\n",
            "Epoch 201/400\n",
            "15/15 [==============================] - 0s 12ms/step - loss: 0.0989 - accuracy: 0.9710 - val_loss: 0.1825 - val_accuracy: 0.9544\n",
            "Epoch 202/400\n",
            "15/15 [==============================] - 0s 14ms/step - loss: 0.0951 - accuracy: 0.9710 - val_loss: 0.1825 - val_accuracy: 0.9555\n",
            "Epoch 203/400\n",
            "15/15 [==============================] - 0s 12ms/step - loss: 0.1039 - accuracy: 0.9644 - val_loss: 0.1844 - val_accuracy: 0.9533\n",
            "Epoch 204/400\n",
            "15/15 [==============================] - 0s 12ms/step - loss: 0.0985 - accuracy: 0.9733 - val_loss: 0.1830 - val_accuracy: 0.9566\n",
            "Epoch 205/400\n",
            "15/15 [==============================] - 0s 11ms/step - loss: 0.0891 - accuracy: 0.9699 - val_loss: 0.1842 - val_accuracy: 0.9555\n",
            "Epoch 206/400\n",
            "15/15 [==============================] - 0s 10ms/step - loss: 0.0949 - accuracy: 0.9777 - val_loss: 0.1860 - val_accuracy: 0.9544\n",
            "Epoch 207/400\n",
            "15/15 [==============================] - 0s 8ms/step - loss: 0.1105 - accuracy: 0.9644 - val_loss: 0.1844 - val_accuracy: 0.9555\n",
            "Epoch 208/400\n",
            "15/15 [==============================] - 0s 7ms/step - loss: 0.0933 - accuracy: 0.9710 - val_loss: 0.1836 - val_accuracy: 0.9544\n",
            "Epoch 209/400\n",
            "15/15 [==============================] - 0s 10ms/step - loss: 0.0952 - accuracy: 0.9710 - val_loss: 0.1824 - val_accuracy: 0.9566\n",
            "Epoch 210/400\n",
            "15/15 [==============================] - 0s 8ms/step - loss: 0.0900 - accuracy: 0.9755 - val_loss: 0.1831 - val_accuracy: 0.9555\n",
            "Epoch 211/400\n",
            "15/15 [==============================] - 0s 10ms/step - loss: 0.0866 - accuracy: 0.9777 - val_loss: 0.1840 - val_accuracy: 0.9588\n",
            "Epoch 212/400\n",
            "15/15 [==============================] - 0s 8ms/step - loss: 0.0845 - accuracy: 0.9755 - val_loss: 0.1869 - val_accuracy: 0.9566\n",
            "Epoch 213/400\n",
            "15/15 [==============================] - 0s 7ms/step - loss: 0.0831 - accuracy: 0.9777 - val_loss: 0.1873 - val_accuracy: 0.9544\n",
            "Epoch 214/400\n",
            "15/15 [==============================] - 0s 10ms/step - loss: 0.0954 - accuracy: 0.9655 - val_loss: 0.1877 - val_accuracy: 0.9544\n",
            "Epoch 215/400\n",
            "15/15 [==============================] - 0s 8ms/step - loss: 0.0812 - accuracy: 0.9811 - val_loss: 0.1866 - val_accuracy: 0.9522\n",
            "Epoch 216/400\n",
            "15/15 [==============================] - 0s 7ms/step - loss: 0.0875 - accuracy: 0.9733 - val_loss: 0.1882 - val_accuracy: 0.9533\n",
            "Epoch 217/400\n",
            "15/15 [==============================] - 0s 10ms/step - loss: 0.0922 - accuracy: 0.9744 - val_loss: 0.1804 - val_accuracy: 0.9566\n",
            "Epoch 218/400\n",
            "15/15 [==============================] - 0s 8ms/step - loss: 0.0875 - accuracy: 0.9755 - val_loss: 0.1830 - val_accuracy: 0.9577\n",
            "Epoch 219/400\n",
            "15/15 [==============================] - 0s 8ms/step - loss: 0.1014 - accuracy: 0.9655 - val_loss: 0.1832 - val_accuracy: 0.9566\n",
            "Epoch 220/400\n",
            "15/15 [==============================] - 0s 8ms/step - loss: 0.0732 - accuracy: 0.9822 - val_loss: 0.1852 - val_accuracy: 0.9544\n",
            "Epoch 221/400\n",
            "15/15 [==============================] - 0s 9ms/step - loss: 0.1072 - accuracy: 0.9588 - val_loss: 0.1923 - val_accuracy: 0.9544\n",
            "Epoch 222/400\n",
            "15/15 [==============================] - 0s 8ms/step - loss: 0.0867 - accuracy: 0.9800 - val_loss: 0.1852 - val_accuracy: 0.9555\n",
            "Epoch 223/400\n",
            "15/15 [==============================] - 0s 11ms/step - loss: 0.0929 - accuracy: 0.9710 - val_loss: 0.1893 - val_accuracy: 0.9544\n",
            "Epoch 224/400\n",
            "15/15 [==============================] - 0s 10ms/step - loss: 0.0995 - accuracy: 0.9688 - val_loss: 0.1841 - val_accuracy: 0.9566\n",
            "Epoch 225/400\n",
            "15/15 [==============================] - 0s 7ms/step - loss: 0.1010 - accuracy: 0.9733 - val_loss: 0.1890 - val_accuracy: 0.9566\n",
            "Epoch 226/400\n",
            "15/15 [==============================] - 0s 10ms/step - loss: 0.1165 - accuracy: 0.9610 - val_loss: 0.2083 - val_accuracy: 0.9455\n",
            "Epoch 227/400\n",
            "15/15 [==============================] - 0s 7ms/step - loss: 0.1035 - accuracy: 0.9688 - val_loss: 0.2024 - val_accuracy: 0.9544\n",
            "Epoch 228/400\n",
            "15/15 [==============================] - 0s 9ms/step - loss: 0.1046 - accuracy: 0.9733 - val_loss: 0.1911 - val_accuracy: 0.9566\n",
            "Epoch 229/400\n",
            "15/15 [==============================] - 0s 7ms/step - loss: 0.0948 - accuracy: 0.9710 - val_loss: 0.1892 - val_accuracy: 0.9555\n",
            "Epoch 230/400\n",
            "15/15 [==============================] - 0s 8ms/step - loss: 0.0778 - accuracy: 0.9777 - val_loss: 0.1874 - val_accuracy: 0.9555\n",
            "Epoch 231/400\n",
            "15/15 [==============================] - 0s 7ms/step - loss: 0.0788 - accuracy: 0.9811 - val_loss: 0.1879 - val_accuracy: 0.9555\n",
            "Epoch 232/400\n",
            "15/15 [==============================] - 0s 7ms/step - loss: 0.0828 - accuracy: 0.9811 - val_loss: 0.1856 - val_accuracy: 0.9577\n",
            "Epoch 233/400\n",
            "15/15 [==============================] - 0s 7ms/step - loss: 0.0765 - accuracy: 0.9833 - val_loss: 0.1840 - val_accuracy: 0.9555\n",
            "Epoch 234/400\n",
            "15/15 [==============================] - 0s 9ms/step - loss: 0.0850 - accuracy: 0.9744 - val_loss: 0.1846 - val_accuracy: 0.9555\n",
            "Epoch 235/400\n",
            "15/15 [==============================] - 0s 10ms/step - loss: 0.0719 - accuracy: 0.9855 - val_loss: 0.1853 - val_accuracy: 0.9544\n",
            "Epoch 236/400\n",
            "15/15 [==============================] - 0s 7ms/step - loss: 0.0818 - accuracy: 0.9811 - val_loss: 0.1822 - val_accuracy: 0.9577\n",
            "Epoch 237/400\n",
            "15/15 [==============================] - 0s 10ms/step - loss: 0.0759 - accuracy: 0.9755 - val_loss: 0.1842 - val_accuracy: 0.9577\n",
            "Epoch 238/400\n",
            "15/15 [==============================] - 0s 9ms/step - loss: 0.0868 - accuracy: 0.9710 - val_loss: 0.1937 - val_accuracy: 0.9544\n",
            "Epoch 239/400\n",
            "15/15 [==============================] - 0s 8ms/step - loss: 0.0919 - accuracy: 0.9722 - val_loss: 0.1889 - val_accuracy: 0.9588\n",
            "Epoch 240/400\n",
            "15/15 [==============================] - 0s 8ms/step - loss: 0.0819 - accuracy: 0.9800 - val_loss: 0.1795 - val_accuracy: 0.9577\n",
            "Epoch 241/400\n",
            "15/15 [==============================] - 0s 8ms/step - loss: 0.0778 - accuracy: 0.9811 - val_loss: 0.1790 - val_accuracy: 0.9577\n",
            "Epoch 242/400\n",
            "15/15 [==============================] - 0s 7ms/step - loss: 0.0637 - accuracy: 0.9866 - val_loss: 0.1859 - val_accuracy: 0.9588\n",
            "Epoch 243/400\n",
            "15/15 [==============================] - 0s 10ms/step - loss: 0.0728 - accuracy: 0.9766 - val_loss: 0.1835 - val_accuracy: 0.9600\n",
            "Epoch 244/400\n",
            "15/15 [==============================] - 0s 11ms/step - loss: 0.0687 - accuracy: 0.9800 - val_loss: 0.1857 - val_accuracy: 0.9566\n",
            "Epoch 245/400\n",
            "15/15 [==============================] - 0s 10ms/step - loss: 0.0954 - accuracy: 0.9655 - val_loss: 0.1849 - val_accuracy: 0.9577\n",
            "Epoch 246/400\n",
            "15/15 [==============================] - 0s 11ms/step - loss: 0.0834 - accuracy: 0.9744 - val_loss: 0.1802 - val_accuracy: 0.9588\n",
            "Epoch 247/400\n",
            "15/15 [==============================] - 0s 7ms/step - loss: 0.0703 - accuracy: 0.9800 - val_loss: 0.1814 - val_accuracy: 0.9577\n",
            "Epoch 248/400\n",
            "15/15 [==============================] - 0s 9ms/step - loss: 0.0787 - accuracy: 0.9755 - val_loss: 0.1822 - val_accuracy: 0.9588\n",
            "Epoch 249/400\n",
            "15/15 [==============================] - 0s 8ms/step - loss: 0.0647 - accuracy: 0.9866 - val_loss: 0.1916 - val_accuracy: 0.9511\n",
            "Epoch 250/400\n",
            "15/15 [==============================] - 0s 10ms/step - loss: 0.0656 - accuracy: 0.9822 - val_loss: 0.1853 - val_accuracy: 0.9566\n",
            "Epoch 251/400\n",
            "15/15 [==============================] - 0s 11ms/step - loss: 0.0728 - accuracy: 0.9777 - val_loss: 0.1832 - val_accuracy: 0.9566\n",
            "Epoch 252/400\n",
            "15/15 [==============================] - 0s 8ms/step - loss: 0.0585 - accuracy: 0.9878 - val_loss: 0.1830 - val_accuracy: 0.9566\n",
            "Epoch 253/400\n",
            "15/15 [==============================] - 0s 10ms/step - loss: 0.0722 - accuracy: 0.9744 - val_loss: 0.1825 - val_accuracy: 0.9566\n",
            "Epoch 254/400\n",
            "15/15 [==============================] - 0s 7ms/step - loss: 0.0785 - accuracy: 0.9788 - val_loss: 0.1878 - val_accuracy: 0.9577\n",
            "Epoch 255/400\n",
            "15/15 [==============================] - 0s 7ms/step - loss: 0.0786 - accuracy: 0.9777 - val_loss: 0.1819 - val_accuracy: 0.9588\n",
            "Epoch 256/400\n",
            "15/15 [==============================] - 0s 10ms/step - loss: 0.0775 - accuracy: 0.9766 - val_loss: 0.1875 - val_accuracy: 0.9588\n",
            "Epoch 257/400\n",
            "15/15 [==============================] - 0s 7ms/step - loss: 0.0785 - accuracy: 0.9744 - val_loss: 0.1845 - val_accuracy: 0.9566\n",
            "Epoch 258/400\n",
            "15/15 [==============================] - 0s 10ms/step - loss: 0.0724 - accuracy: 0.9800 - val_loss: 0.1824 - val_accuracy: 0.9577\n",
            "Epoch 259/400\n",
            "15/15 [==============================] - 0s 9ms/step - loss: 0.0677 - accuracy: 0.9788 - val_loss: 0.1801 - val_accuracy: 0.9588\n",
            "Epoch 260/400\n",
            "15/15 [==============================] - 0s 10ms/step - loss: 0.0677 - accuracy: 0.9822 - val_loss: 0.1816 - val_accuracy: 0.9588\n",
            "Epoch 261/400\n",
            "15/15 [==============================] - 0s 10ms/step - loss: 0.0737 - accuracy: 0.9777 - val_loss: 0.1795 - val_accuracy: 0.9577\n",
            "Epoch 262/400\n",
            "15/15 [==============================] - 0s 7ms/step - loss: 0.0692 - accuracy: 0.9822 - val_loss: 0.1810 - val_accuracy: 0.9588\n",
            "Epoch 263/400\n",
            "15/15 [==============================] - 0s 10ms/step - loss: 0.0735 - accuracy: 0.9766 - val_loss: 0.1821 - val_accuracy: 0.9577\n",
            "Epoch 264/400\n",
            "15/15 [==============================] - 0s 10ms/step - loss: 0.0746 - accuracy: 0.9755 - val_loss: 0.1802 - val_accuracy: 0.9566\n",
            "Epoch 265/400\n",
            "15/15 [==============================] - 0s 8ms/step - loss: 0.0666 - accuracy: 0.9822 - val_loss: 0.1788 - val_accuracy: 0.9555\n",
            "Epoch 266/400\n",
            "15/15 [==============================] - 0s 7ms/step - loss: 0.0664 - accuracy: 0.9800 - val_loss: 0.1802 - val_accuracy: 0.9577\n",
            "Epoch 267/400\n",
            "15/15 [==============================] - 0s 7ms/step - loss: 0.0719 - accuracy: 0.9822 - val_loss: 0.1866 - val_accuracy: 0.9511\n",
            "Epoch 268/400\n",
            "15/15 [==============================] - 0s 10ms/step - loss: 0.0662 - accuracy: 0.9800 - val_loss: 0.1831 - val_accuracy: 0.9544\n",
            "Epoch 269/400\n",
            "15/15 [==============================] - 0s 8ms/step - loss: 0.0651 - accuracy: 0.9811 - val_loss: 0.1800 - val_accuracy: 0.9577\n",
            "Epoch 270/400\n",
            "15/15 [==============================] - 0s 8ms/step - loss: 0.0636 - accuracy: 0.9777 - val_loss: 0.1776 - val_accuracy: 0.9600\n",
            "Epoch 271/400\n",
            "15/15 [==============================] - 0s 8ms/step - loss: 0.0864 - accuracy: 0.9744 - val_loss: 0.1808 - val_accuracy: 0.9566\n",
            "Epoch 272/400\n",
            "15/15 [==============================] - 0s 7ms/step - loss: 0.0823 - accuracy: 0.9722 - val_loss: 0.1815 - val_accuracy: 0.9588\n",
            "Epoch 273/400\n",
            "15/15 [==============================] - 0s 10ms/step - loss: 0.0732 - accuracy: 0.9833 - val_loss: 0.1783 - val_accuracy: 0.9566\n",
            "Epoch 274/400\n",
            "15/15 [==============================] - 0s 9ms/step - loss: 0.0711 - accuracy: 0.9766 - val_loss: 0.1794 - val_accuracy: 0.9566\n",
            "Epoch 275/400\n",
            "15/15 [==============================] - 0s 10ms/step - loss: 0.0677 - accuracy: 0.9777 - val_loss: 0.1797 - val_accuracy: 0.9566\n",
            "Epoch 276/400\n",
            "15/15 [==============================] - 0s 7ms/step - loss: 0.0628 - accuracy: 0.9788 - val_loss: 0.1784 - val_accuracy: 0.9566\n",
            "Epoch 277/400\n",
            "15/15 [==============================] - 0s 10ms/step - loss: 0.0656 - accuracy: 0.9822 - val_loss: 0.1740 - val_accuracy: 0.9588\n",
            "Epoch 278/400\n",
            "15/15 [==============================] - 0s 14ms/step - loss: 0.0545 - accuracy: 0.9900 - val_loss: 0.1770 - val_accuracy: 0.9588\n",
            "Epoch 279/400\n",
            "15/15 [==============================] - 0s 14ms/step - loss: 0.0682 - accuracy: 0.9766 - val_loss: 0.1757 - val_accuracy: 0.9588\n",
            "Epoch 280/400\n",
            "15/15 [==============================] - 0s 14ms/step - loss: 0.0648 - accuracy: 0.9800 - val_loss: 0.1801 - val_accuracy: 0.9600\n",
            "Epoch 281/400\n",
            "15/15 [==============================] - 0s 13ms/step - loss: 0.0612 - accuracy: 0.9800 - val_loss: 0.1810 - val_accuracy: 0.9588\n",
            "Epoch 282/400\n",
            "15/15 [==============================] - 0s 13ms/step - loss: 0.0683 - accuracy: 0.9788 - val_loss: 0.1791 - val_accuracy: 0.9600\n",
            "Epoch 283/400\n",
            "15/15 [==============================] - 0s 14ms/step - loss: 0.0667 - accuracy: 0.9788 - val_loss: 0.1776 - val_accuracy: 0.9588\n",
            "Epoch 284/400\n",
            "15/15 [==============================] - 0s 13ms/step - loss: 0.0592 - accuracy: 0.9855 - val_loss: 0.1778 - val_accuracy: 0.9600\n",
            "Epoch 285/400\n",
            "15/15 [==============================] - 0s 12ms/step - loss: 0.0473 - accuracy: 0.9889 - val_loss: 0.1795 - val_accuracy: 0.9588\n",
            "Epoch 286/400\n",
            "15/15 [==============================] - 0s 13ms/step - loss: 0.0683 - accuracy: 0.9833 - val_loss: 0.1829 - val_accuracy: 0.9577\n",
            "Epoch 287/400\n",
            "15/15 [==============================] - 0s 12ms/step - loss: 0.0685 - accuracy: 0.9811 - val_loss: 0.1822 - val_accuracy: 0.9588\n",
            "Epoch 288/400\n",
            "15/15 [==============================] - 0s 14ms/step - loss: 0.0613 - accuracy: 0.9844 - val_loss: 0.1851 - val_accuracy: 0.9566\n",
            "Epoch 289/400\n",
            "15/15 [==============================] - 0s 13ms/step - loss: 0.0598 - accuracy: 0.9788 - val_loss: 0.1766 - val_accuracy: 0.9577\n",
            "Epoch 290/400\n",
            "15/15 [==============================] - 0s 13ms/step - loss: 0.0548 - accuracy: 0.9855 - val_loss: 0.1772 - val_accuracy: 0.9588\n",
            "Epoch 291/400\n",
            "15/15 [==============================] - 0s 11ms/step - loss: 0.0629 - accuracy: 0.9800 - val_loss: 0.1846 - val_accuracy: 0.9566\n",
            "Epoch 292/400\n",
            "15/15 [==============================] - 0s 13ms/step - loss: 0.0534 - accuracy: 0.9844 - val_loss: 0.1828 - val_accuracy: 0.9588\n",
            "Epoch 293/400\n",
            "15/15 [==============================] - 0s 13ms/step - loss: 0.0531 - accuracy: 0.9889 - val_loss: 0.1852 - val_accuracy: 0.9555\n",
            "Epoch 294/400\n",
            "15/15 [==============================] - 0s 10ms/step - loss: 0.0630 - accuracy: 0.9844 - val_loss: 0.1805 - val_accuracy: 0.9588\n",
            "Epoch 295/400\n",
            "15/15 [==============================] - 0s 8ms/step - loss: 0.0592 - accuracy: 0.9889 - val_loss: 0.1804 - val_accuracy: 0.9588\n",
            "Epoch 296/400\n",
            "15/15 [==============================] - 0s 7ms/step - loss: 0.0545 - accuracy: 0.9833 - val_loss: 0.1810 - val_accuracy: 0.9588\n",
            "Epoch 297/400\n",
            "15/15 [==============================] - 0s 10ms/step - loss: 0.0588 - accuracy: 0.9811 - val_loss: 0.1807 - val_accuracy: 0.9600\n",
            "Epoch 298/400\n",
            "15/15 [==============================] - 0s 8ms/step - loss: 0.0542 - accuracy: 0.9855 - val_loss: 0.1798 - val_accuracy: 0.9600\n",
            "Epoch 299/400\n",
            "15/15 [==============================] - 0s 11ms/step - loss: 0.0503 - accuracy: 0.9866 - val_loss: 0.1803 - val_accuracy: 0.9588\n",
            "Epoch 300/400\n",
            "15/15 [==============================] - 0s 11ms/step - loss: 0.0576 - accuracy: 0.9844 - val_loss: 0.1805 - val_accuracy: 0.9577\n",
            "Epoch 301/400\n",
            "15/15 [==============================] - 0s 10ms/step - loss: 0.0533 - accuracy: 0.9866 - val_loss: 0.1781 - val_accuracy: 0.9588\n",
            "Epoch 302/400\n",
            "15/15 [==============================] - 0s 11ms/step - loss: 0.0442 - accuracy: 0.9878 - val_loss: 0.1836 - val_accuracy: 0.9566\n",
            "Epoch 303/400\n",
            "15/15 [==============================] - 0s 10ms/step - loss: 0.0669 - accuracy: 0.9788 - val_loss: 0.2035 - val_accuracy: 0.9522\n",
            "Epoch 304/400\n",
            "15/15 [==============================] - 0s 7ms/step - loss: 0.0693 - accuracy: 0.9766 - val_loss: 0.1899 - val_accuracy: 0.9577\n",
            "Epoch 305/400\n",
            "15/15 [==============================] - 0s 9ms/step - loss: 0.0604 - accuracy: 0.9822 - val_loss: 0.1885 - val_accuracy: 0.9611\n",
            "Epoch 306/400\n",
            "15/15 [==============================] - 0s 7ms/step - loss: 0.0507 - accuracy: 0.9811 - val_loss: 0.1850 - val_accuracy: 0.9577\n",
            "Epoch 307/400\n",
            "15/15 [==============================] - 0s 11ms/step - loss: 0.0553 - accuracy: 0.9855 - val_loss: 0.1897 - val_accuracy: 0.9566\n",
            "Epoch 308/400\n",
            "15/15 [==============================] - 0s 8ms/step - loss: 0.0417 - accuracy: 0.9955 - val_loss: 0.1822 - val_accuracy: 0.9577\n",
            "Epoch 309/400\n",
            "15/15 [==============================] - 0s 10ms/step - loss: 0.0573 - accuracy: 0.9844 - val_loss: 0.1827 - val_accuracy: 0.9577\n",
            "Epoch 310/400\n",
            "15/15 [==============================] - 0s 11ms/step - loss: 0.0502 - accuracy: 0.9878 - val_loss: 0.1897 - val_accuracy: 0.9577\n",
            "Epoch 311/400\n",
            "15/15 [==============================] - 0s 8ms/step - loss: 0.0547 - accuracy: 0.9844 - val_loss: 0.1923 - val_accuracy: 0.9566\n",
            "Epoch 312/400\n",
            "15/15 [==============================] - 0s 11ms/step - loss: 0.0671 - accuracy: 0.9777 - val_loss: 0.1852 - val_accuracy: 0.9600\n",
            "Epoch 313/400\n",
            "15/15 [==============================] - 0s 12ms/step - loss: 0.0524 - accuracy: 0.9855 - val_loss: 0.1834 - val_accuracy: 0.9588\n",
            "Epoch 314/400\n",
            "15/15 [==============================] - 0s 7ms/step - loss: 0.0504 - accuracy: 0.9844 - val_loss: 0.1838 - val_accuracy: 0.9588\n",
            "Epoch 315/400\n",
            "15/15 [==============================] - 0s 10ms/step - loss: 0.0494 - accuracy: 0.9855 - val_loss: 0.1832 - val_accuracy: 0.9600\n",
            "Epoch 316/400\n",
            "15/15 [==============================] - 0s 10ms/step - loss: 0.0587 - accuracy: 0.9844 - val_loss: 0.1858 - val_accuracy: 0.9588\n",
            "Epoch 317/400\n",
            "15/15 [==============================] - 0s 9ms/step - loss: 0.0669 - accuracy: 0.9755 - val_loss: 0.2393 - val_accuracy: 0.9410\n",
            "Epoch 318/400\n",
            "15/15 [==============================] - 0s 10ms/step - loss: 0.0641 - accuracy: 0.9811 - val_loss: 0.1920 - val_accuracy: 0.9566\n",
            "Epoch 319/400\n",
            "15/15 [==============================] - 0s 11ms/step - loss: 0.0536 - accuracy: 0.9833 - val_loss: 0.1875 - val_accuracy: 0.9600\n",
            "Epoch 320/400\n",
            "15/15 [==============================] - 0s 10ms/step - loss: 0.0513 - accuracy: 0.9844 - val_loss: 0.1866 - val_accuracy: 0.9588\n",
            "Epoch 321/400\n",
            "15/15 [==============================] - 0s 10ms/step - loss: 0.0439 - accuracy: 0.9911 - val_loss: 0.1870 - val_accuracy: 0.9588\n",
            "Epoch 322/400\n",
            "15/15 [==============================] - 0s 8ms/step - loss: 0.0409 - accuracy: 0.9933 - val_loss: 0.1853 - val_accuracy: 0.9600\n",
            "Epoch 323/400\n",
            "15/15 [==============================] - 0s 11ms/step - loss: 0.0620 - accuracy: 0.9800 - val_loss: 0.1850 - val_accuracy: 0.9600\n",
            "Epoch 324/400\n",
            "15/15 [==============================] - 0s 11ms/step - loss: 0.0482 - accuracy: 0.9822 - val_loss: 0.1905 - val_accuracy: 0.9577\n",
            "Epoch 325/400\n",
            "15/15 [==============================] - 0s 9ms/step - loss: 0.0575 - accuracy: 0.9855 - val_loss: 0.1834 - val_accuracy: 0.9600\n",
            "Epoch 326/400\n",
            "15/15 [==============================] - 0s 11ms/step - loss: 0.0474 - accuracy: 0.9878 - val_loss: 0.1848 - val_accuracy: 0.9622\n",
            "Epoch 327/400\n",
            "15/15 [==============================] - 0s 9ms/step - loss: 0.0612 - accuracy: 0.9833 - val_loss: 0.1853 - val_accuracy: 0.9577\n",
            "Epoch 328/400\n",
            "15/15 [==============================] - 0s 8ms/step - loss: 0.0598 - accuracy: 0.9777 - val_loss: 0.1855 - val_accuracy: 0.9588\n",
            "Epoch 329/400\n",
            "15/15 [==============================] - 0s 8ms/step - loss: 0.0686 - accuracy: 0.9800 - val_loss: 0.1889 - val_accuracy: 0.9588\n",
            "Epoch 330/400\n",
            "15/15 [==============================] - 0s 10ms/step - loss: 0.0476 - accuracy: 0.9900 - val_loss: 0.1866 - val_accuracy: 0.9588\n",
            "Epoch 331/400\n",
            "15/15 [==============================] - 0s 10ms/step - loss: 0.0483 - accuracy: 0.9866 - val_loss: 0.1883 - val_accuracy: 0.9577\n",
            "Epoch 332/400\n",
            "15/15 [==============================] - 0s 8ms/step - loss: 0.0539 - accuracy: 0.9833 - val_loss: 0.1873 - val_accuracy: 0.9588\n",
            "Epoch 333/400\n",
            "15/15 [==============================] - 0s 12ms/step - loss: 0.0533 - accuracy: 0.9866 - val_loss: 0.1862 - val_accuracy: 0.9600\n",
            "Epoch 334/400\n",
            "15/15 [==============================] - 0s 9ms/step - loss: 0.0396 - accuracy: 0.9911 - val_loss: 0.1904 - val_accuracy: 0.9544\n",
            "Epoch 335/400\n",
            "15/15 [==============================] - 0s 9ms/step - loss: 0.0564 - accuracy: 0.9833 - val_loss: 0.1870 - val_accuracy: 0.9588\n",
            "Epoch 336/400\n",
            "15/15 [==============================] - 0s 8ms/step - loss: 0.0410 - accuracy: 0.9900 - val_loss: 0.1850 - val_accuracy: 0.9611\n",
            "Epoch 337/400\n",
            "15/15 [==============================] - 0s 10ms/step - loss: 0.0386 - accuracy: 0.9944 - val_loss: 0.1833 - val_accuracy: 0.9600\n",
            "Epoch 338/400\n",
            "15/15 [==============================] - 0s 11ms/step - loss: 0.0424 - accuracy: 0.9878 - val_loss: 0.1859 - val_accuracy: 0.9588\n",
            "Epoch 339/400\n",
            "15/15 [==============================] - 0s 11ms/step - loss: 0.0438 - accuracy: 0.9900 - val_loss: 0.1875 - val_accuracy: 0.9588\n",
            "Epoch 340/400\n",
            "15/15 [==============================] - 0s 7ms/step - loss: 0.0529 - accuracy: 0.9878 - val_loss: 0.1823 - val_accuracy: 0.9600\n",
            "Epoch 341/400\n",
            "15/15 [==============================] - 0s 10ms/step - loss: 0.0522 - accuracy: 0.9866 - val_loss: 0.1826 - val_accuracy: 0.9588\n",
            "Epoch 342/400\n",
            "15/15 [==============================] - 0s 10ms/step - loss: 0.0390 - accuracy: 0.9933 - val_loss: 0.1844 - val_accuracy: 0.9611\n",
            "Epoch 343/400\n",
            "15/15 [==============================] - 0s 10ms/step - loss: 0.0450 - accuracy: 0.9900 - val_loss: 0.1855 - val_accuracy: 0.9600\n",
            "Epoch 344/400\n",
            "15/15 [==============================] - 0s 11ms/step - loss: 0.0622 - accuracy: 0.9800 - val_loss: 0.1837 - val_accuracy: 0.9588\n",
            "Epoch 345/400\n",
            "15/15 [==============================] - 0s 11ms/step - loss: 0.0420 - accuracy: 0.9866 - val_loss: 0.1845 - val_accuracy: 0.9577\n",
            "Epoch 346/400\n",
            "15/15 [==============================] - 0s 12ms/step - loss: 0.0427 - accuracy: 0.9878 - val_loss: 0.1839 - val_accuracy: 0.9588\n",
            "Epoch 347/400\n",
            "15/15 [==============================] - 0s 9ms/step - loss: 0.0370 - accuracy: 0.9933 - val_loss: 0.1842 - val_accuracy: 0.9600\n",
            "Epoch 348/400\n",
            "15/15 [==============================] - 0s 11ms/step - loss: 0.0411 - accuracy: 0.9889 - val_loss: 0.1859 - val_accuracy: 0.9588\n",
            "Epoch 349/400\n",
            "15/15 [==============================] - 0s 8ms/step - loss: 0.0378 - accuracy: 0.9900 - val_loss: 0.1848 - val_accuracy: 0.9600\n",
            "Epoch 350/400\n",
            "15/15 [==============================] - 0s 11ms/step - loss: 0.0365 - accuracy: 0.9911 - val_loss: 0.1825 - val_accuracy: 0.9611\n",
            "Epoch 351/400\n",
            "15/15 [==============================] - 0s 11ms/step - loss: 0.0364 - accuracy: 0.9911 - val_loss: 0.1844 - val_accuracy: 0.9600\n",
            "Epoch 352/400\n",
            "15/15 [==============================] - 0s 11ms/step - loss: 0.0316 - accuracy: 0.9944 - val_loss: 0.1875 - val_accuracy: 0.9577\n",
            "Epoch 353/400\n",
            "15/15 [==============================] - 0s 9ms/step - loss: 0.0421 - accuracy: 0.9878 - val_loss: 0.1870 - val_accuracy: 0.9600\n",
            "Epoch 354/400\n",
            "15/15 [==============================] - 0s 10ms/step - loss: 0.0398 - accuracy: 0.9889 - val_loss: 0.1860 - val_accuracy: 0.9611\n",
            "Epoch 355/400\n",
            "15/15 [==============================] - 0s 9ms/step - loss: 0.0401 - accuracy: 0.9889 - val_loss: 0.1874 - val_accuracy: 0.9588\n",
            "Epoch 356/400\n",
            "15/15 [==============================] - 0s 10ms/step - loss: 0.0384 - accuracy: 0.9889 - val_loss: 0.1865 - val_accuracy: 0.9600\n",
            "Epoch 357/400\n",
            "15/15 [==============================] - 0s 10ms/step - loss: 0.0462 - accuracy: 0.9866 - val_loss: 0.1825 - val_accuracy: 0.9600\n",
            "Epoch 358/400\n",
            "15/15 [==============================] - 1s 46ms/step - loss: 0.0396 - accuracy: 0.9900 - val_loss: 0.1823 - val_accuracy: 0.9611\n",
            "Epoch 359/400\n",
            "15/15 [==============================] - 1s 51ms/step - loss: 0.0450 - accuracy: 0.9866 - val_loss: 0.1839 - val_accuracy: 0.9600\n",
            "Epoch 360/400\n",
            "15/15 [==============================] - 0s 11ms/step - loss: 0.0522 - accuracy: 0.9855 - val_loss: 0.1816 - val_accuracy: 0.9611\n",
            "Epoch 361/400\n",
            "15/15 [==============================] - 1s 47ms/step - loss: 0.0378 - accuracy: 0.9900 - val_loss: 0.1810 - val_accuracy: 0.9611\n",
            "Epoch 362/400\n",
            "15/15 [==============================] - 1s 66ms/step - loss: 0.0392 - accuracy: 0.9878 - val_loss: 0.1823 - val_accuracy: 0.9611\n",
            "Epoch 363/400\n",
            "15/15 [==============================] - 0s 14ms/step - loss: 0.0463 - accuracy: 0.9900 - val_loss: 0.1824 - val_accuracy: 0.9600\n",
            "Epoch 364/400\n",
            "15/15 [==============================] - 0s 17ms/step - loss: 0.0423 - accuracy: 0.9889 - val_loss: 0.1835 - val_accuracy: 0.9600\n",
            "Epoch 365/400\n",
            "15/15 [==============================] - 1s 41ms/step - loss: 0.0355 - accuracy: 0.9933 - val_loss: 0.1819 - val_accuracy: 0.9611\n",
            "Epoch 366/400\n",
            "15/15 [==============================] - 0s 15ms/step - loss: 0.0345 - accuracy: 0.9933 - val_loss: 0.1817 - val_accuracy: 0.9600\n",
            "Epoch 367/400\n",
            "15/15 [==============================] - 0s 12ms/step - loss: 0.0441 - accuracy: 0.9866 - val_loss: 0.1831 - val_accuracy: 0.9600\n",
            "Epoch 368/400\n",
            "15/15 [==============================] - 0s 12ms/step - loss: 0.0353 - accuracy: 0.9900 - val_loss: 0.1838 - val_accuracy: 0.9600\n",
            "Epoch 369/400\n",
            "15/15 [==============================] - 0s 8ms/step - loss: 0.0383 - accuracy: 0.9911 - val_loss: 0.1837 - val_accuracy: 0.9600\n",
            "Epoch 370/400\n",
            "15/15 [==============================] - 0s 10ms/step - loss: 0.0346 - accuracy: 0.9900 - val_loss: 0.1841 - val_accuracy: 0.9611\n",
            "Epoch 371/400\n",
            "15/15 [==============================] - 0s 9ms/step - loss: 0.0451 - accuracy: 0.9855 - val_loss: 0.1832 - val_accuracy: 0.9577\n",
            "Epoch 372/400\n",
            "15/15 [==============================] - 0s 11ms/step - loss: 0.0381 - accuracy: 0.9911 - val_loss: 0.1840 - val_accuracy: 0.9588\n",
            "Epoch 373/400\n",
            "15/15 [==============================] - 0s 11ms/step - loss: 0.0413 - accuracy: 0.9844 - val_loss: 0.1846 - val_accuracy: 0.9611\n",
            "Epoch 374/400\n",
            "15/15 [==============================] - 0s 10ms/step - loss: 0.0386 - accuracy: 0.9900 - val_loss: 0.1860 - val_accuracy: 0.9600\n",
            "Epoch 375/400\n",
            "15/15 [==============================] - 0s 7ms/step - loss: 0.0388 - accuracy: 0.9922 - val_loss: 0.1860 - val_accuracy: 0.9611\n",
            "Epoch 376/400\n",
            "15/15 [==============================] - 0s 7ms/step - loss: 0.0439 - accuracy: 0.9878 - val_loss: 0.1869 - val_accuracy: 0.9577\n",
            "Epoch 377/400\n",
            "15/15 [==============================] - 0s 9ms/step - loss: 0.0269 - accuracy: 0.9967 - val_loss: 0.1856 - val_accuracy: 0.9588\n",
            "Epoch 378/400\n",
            "15/15 [==============================] - 0s 8ms/step - loss: 0.0397 - accuracy: 0.9889 - val_loss: 0.1854 - val_accuracy: 0.9622\n",
            "Epoch 379/400\n",
            "15/15 [==============================] - 0s 11ms/step - loss: 0.0338 - accuracy: 0.9900 - val_loss: 0.1868 - val_accuracy: 0.9611\n",
            "Epoch 380/400\n",
            "15/15 [==============================] - 0s 8ms/step - loss: 0.0478 - accuracy: 0.9833 - val_loss: 0.1884 - val_accuracy: 0.9600\n",
            "Epoch 381/400\n",
            "15/15 [==============================] - 0s 8ms/step - loss: 0.0348 - accuracy: 0.9911 - val_loss: 0.1863 - val_accuracy: 0.9611\n",
            "Epoch 382/400\n",
            "15/15 [==============================] - 0s 8ms/step - loss: 0.0322 - accuracy: 0.9933 - val_loss: 0.1879 - val_accuracy: 0.9600\n",
            "Epoch 383/400\n",
            "15/15 [==============================] - 0s 9ms/step - loss: 0.0356 - accuracy: 0.9922 - val_loss: 0.1891 - val_accuracy: 0.9588\n",
            "Epoch 384/400\n",
            "15/15 [==============================] - 0s 13ms/step - loss: 0.0284 - accuracy: 0.9955 - val_loss: 0.1888 - val_accuracy: 0.9611\n",
            "Epoch 385/400\n",
            "15/15 [==============================] - 0s 9ms/step - loss: 0.0394 - accuracy: 0.9866 - val_loss: 0.1891 - val_accuracy: 0.9600\n",
            "Epoch 386/400\n",
            "15/15 [==============================] - 0s 12ms/step - loss: 0.0516 - accuracy: 0.9866 - val_loss: 0.2095 - val_accuracy: 0.9499\n",
            "Epoch 387/400\n",
            "15/15 [==============================] - 0s 10ms/step - loss: 0.0529 - accuracy: 0.9833 - val_loss: 0.1902 - val_accuracy: 0.9588\n",
            "Epoch 388/400\n",
            "15/15 [==============================] - 0s 7ms/step - loss: 0.0411 - accuracy: 0.9866 - val_loss: 0.1888 - val_accuracy: 0.9600\n",
            "Epoch 389/400\n",
            "15/15 [==============================] - 0s 7ms/step - loss: 0.0358 - accuracy: 0.9911 - val_loss: 0.1821 - val_accuracy: 0.9622\n",
            "Epoch 390/400\n",
            "15/15 [==============================] - 0s 10ms/step - loss: 0.0317 - accuracy: 0.9922 - val_loss: 0.1830 - val_accuracy: 0.9611\n",
            "Epoch 391/400\n",
            "15/15 [==============================] - 0s 11ms/step - loss: 0.0321 - accuracy: 0.9922 - val_loss: 0.1819 - val_accuracy: 0.9611\n",
            "Epoch 392/400\n",
            "15/15 [==============================] - 0s 9ms/step - loss: 0.0379 - accuracy: 0.9889 - val_loss: 0.1824 - val_accuracy: 0.9588\n",
            "Epoch 393/400\n",
            "15/15 [==============================] - 0s 9ms/step - loss: 0.0337 - accuracy: 0.9944 - val_loss: 0.1858 - val_accuracy: 0.9588\n",
            "Epoch 394/400\n",
            "15/15 [==============================] - 0s 11ms/step - loss: 0.0309 - accuracy: 0.9922 - val_loss: 0.1867 - val_accuracy: 0.9600\n",
            "Epoch 395/400\n",
            "15/15 [==============================] - 0s 11ms/step - loss: 0.0294 - accuracy: 0.9944 - val_loss: 0.1882 - val_accuracy: 0.9600\n",
            "Epoch 396/400\n",
            "15/15 [==============================] - 0s 10ms/step - loss: 0.0392 - accuracy: 0.9900 - val_loss: 0.1912 - val_accuracy: 0.9588\n",
            "Epoch 397/400\n",
            "15/15 [==============================] - 0s 9ms/step - loss: 0.0267 - accuracy: 0.9955 - val_loss: 0.1857 - val_accuracy: 0.9611\n",
            "Epoch 398/400\n",
            "15/15 [==============================] - 0s 8ms/step - loss: 0.0336 - accuracy: 0.9900 - val_loss: 0.1861 - val_accuracy: 0.9611\n",
            "Epoch 399/400\n",
            "15/15 [==============================] - 0s 8ms/step - loss: 0.0293 - accuracy: 0.9933 - val_loss: 0.1871 - val_accuracy: 0.9611\n",
            "Epoch 400/400\n",
            "15/15 [==============================] - 0s 9ms/step - loss: 0.0372 - accuracy: 0.9889 - val_loss: 0.1913 - val_accuracy: 0.9600\n"
          ]
        }
      ]
    },
    {
      "cell_type": "markdown",
      "source": [
        "**<h1>Evaluating the Model</h1>**\n",
        "\n",
        "<li>Below, we evaluate the model on the training and testing sets, as well as calculate the generalization gap.</li>\n",
        "\n",
        "> <li>The generalization gap is the difference between a model's performance on training data and its performance on unseen data drawn from the same distribution.</li>\n",
        "\n",
        "\n",
        "\n"
      ],
      "metadata": {
        "id": "2kPIHAXao__t"
      }
    },
    {
      "cell_type": "code",
      "source": [
        "# evaluate model on training set\n",
        "train_loss, train_acc = model.evaluate(X_train, Y_train)\n",
        "print(\"train_loss:\", train_loss)\n",
        "print(\"train_acc:\", train_acc)"
      ],
      "metadata": {
        "id": "OYiKV-ohOzQF",
        "colab": {
          "base_uri": "https://localhost:8080/"
        },
        "outputId": "e1846911-9104-429b-d7aa-8974b028ec91"
      },
      "execution_count": null,
      "outputs": [
        {
          "output_type": "stream",
          "name": "stdout",
          "text": [
            "29/29 [==============================] - 0s 2ms/step - loss: 0.0069 - accuracy: 1.0000\n",
            "train_loss: 0.006940165068954229\n",
            "train_acc: 1.0\n"
          ]
        }
      ]
    },
    {
      "cell_type": "code",
      "source": [
        "# evaluate model on test set\n",
        "test_loss, test_acc = model.evaluate(X_test, Y_test)\n",
        "print(\"train_loss:\", test_loss)\n",
        "print(\"train_acc:\", test_acc)"
      ],
      "metadata": {
        "id": "tmJYoYjHPGou",
        "colab": {
          "base_uri": "https://localhost:8080/"
        },
        "outputId": "8dbafc5a-0c9f-4954-a145-f624c0ad22cb"
      },
      "execution_count": null,
      "outputs": [
        {
          "output_type": "stream",
          "name": "stdout",
          "text": [
            "29/29 [==============================] - 0s 2ms/step - loss: 0.1913 - accuracy: 0.9600\n",
            "train_loss: 0.19132837653160095\n",
            "train_acc: 0.9599555134773254\n"
          ]
        }
      ]
    },
    {
      "cell_type": "code",
      "source": [
        "# calculate generalization gap\n",
        "generalization_gap = train_loss - test_loss\n",
        "print(\"Generalization gap:\", generalization_gap)"
      ],
      "metadata": {
        "id": "MelPcUyyPMEE",
        "colab": {
          "base_uri": "https://localhost:8080/"
        },
        "outputId": "b7ac55de-538f-47db-88bf-66de3bc57618"
      },
      "execution_count": null,
      "outputs": [
        {
          "output_type": "stream",
          "name": "stdout",
          "text": [
            "Generalization gap: -0.18438821146264672\n"
          ]
        }
      ]
    },
    {
      "cell_type": "markdown",
      "source": [
        "**<h1>Task 2.</h1>**\n"
      ],
      "metadata": {
        "id": "qbzQ_hiOqLup"
      }
    },
    {
      "cell_type": "markdown",
      "source": [
        "**<h1>Dumping the Weights</h1>**\n",
        "\n",
        "<li>Below, we dump the weights by layer with a <code>for</code> loop iterating through each layer in the model. The following section returns the weights of all the layers in the model.</li>"
      ],
      "metadata": {
        "id": "JLQokX2BqYMm"
      }
    },
    {
      "cell_type": "code",
      "source": [
        "#dump the weights\n",
        "weights = model.get_weights()\n",
        "\n",
        "for layer in model.layers:\n",
        "  print(layer.get_config(), layer.get_weights())\n",
        "\n"
      ],
      "metadata": {
        "id": "noc_qGKaGNKA",
        "colab": {
          "base_uri": "https://localhost:8080/"
        },
        "outputId": "18b07f61-977f-4469-9c85-9c12809f7d06"
      },
      "execution_count": null,
      "outputs": [
        {
          "output_type": "stream",
          "name": "stdout",
          "text": [
            "{'name': 'input_layer', 'trainable': True, 'dtype': 'float32', 'batch_input_shape': (None, 64), 'units': 64, 'activation': 'linear', 'use_bias': True, 'kernel_initializer': {'class_name': 'GlorotUniform', 'config': {'seed': None}}, 'bias_initializer': {'class_name': 'Zeros', 'config': {}}, 'kernel_regularizer': None, 'bias_regularizer': None, 'activity_regularizer': None, 'kernel_constraint': None, 'bias_constraint': None} [array([[ 0.18569665, -0.13193066,  0.03065346, ...,  0.17088158,\n",
            "         0.02900732,  0.07129903],\n",
            "       [-0.12495903,  0.4021446 , -1.173175  , ..., -1.1209896 ,\n",
            "        -1.2544267 , -0.05443404],\n",
            "       [ 0.02680123, -0.05601811, -0.13567044, ..., -0.4735934 ,\n",
            "        -0.29746637,  0.20889318],\n",
            "       ...,\n",
            "       [ 0.27661455, -0.11284597,  0.0430582 , ..., -0.24261628,\n",
            "         0.04455539,  0.4607982 ],\n",
            "       [-0.28287137,  0.63326216, -0.3496443 , ..., -0.18219794,\n",
            "        -0.15444973,  0.2128075 ],\n",
            "       [-0.5993885 ,  0.8601746 ,  0.4333951 , ..., -1.085406  ,\n",
            "         0.45762154,  1.1965693 ]], dtype=float32), array([ 0.03862518,  0.02445105,  0.00214798,  0.02415922,  0.05181784,\n",
            "        0.05679493,  0.00622749, -0.0105153 ,  0.02707648,  0.02867642,\n",
            "        0.01468152, -0.02520968, -0.00481326,  0.01642161,  0.01207096,\n",
            "        0.04362757, -0.02136022,  0.03631023,  0.02577472,  0.015639  ,\n",
            "        0.00950702,  0.04788986,  0.05354606,  0.01890212,  0.03193757,\n",
            "        0.00246206,  0.03169054, -0.00977024,  0.07662588,  0.07985146,\n",
            "       -0.014138  ,  0.04822342, -0.01212838,  0.01544729,  0.03031229,\n",
            "        0.0209592 ,  0.00383001,  0.03135595,  0.03309345,  0.0011258 ,\n",
            "        0.06345885,  0.05771468,  0.00964002,  0.04236372,  0.02763998,\n",
            "       -0.01114968, -0.01798598,  0.00264125,  0.02155494,  0.        ,\n",
            "        0.08351316,  0.04612904,  0.        , -0.01000862, -0.00992936,\n",
            "        0.02463575,  0.00697693,  0.        , -0.02076427, -0.03424769,\n",
            "        0.06284536,  0.03525687, -0.0061763 , -0.01480649], dtype=float32)]\n",
            "{'name': 'activation', 'trainable': True, 'dtype': 'float32', 'activation': 'relu'} []\n",
            "{'name': 'dropout', 'trainable': True, 'dtype': 'float32', 'rate': 0.2, 'noise_shape': None, 'seed': None} []\n",
            "{'name': 'hidden_layer', 'trainable': True, 'dtype': 'float32', 'units': 64, 'activation': 'linear', 'use_bias': True, 'kernel_initializer': {'class_name': 'GlorotUniform', 'config': {'seed': None}}, 'bias_initializer': {'class_name': 'Zeros', 'config': {}}, 'kernel_regularizer': None, 'bias_regularizer': None, 'activity_regularizer': None, 'kernel_constraint': None, 'bias_constraint': None} [array([[ 0.71988285,  0.7987533 , -0.14588332, ...,  0.9930648 ,\n",
            "        -0.8418903 ,  0.05989664],\n",
            "       [-0.04388879, -0.3312265 ,  0.6391312 , ...,  0.23909578,\n",
            "         0.9826405 , -0.03298265],\n",
            "       [ 0.15639944, -0.12850736,  0.0054281 , ..., -0.3538429 ,\n",
            "         0.3737378 ,  0.07091696],\n",
            "       ...,\n",
            "       [ 0.03748988,  0.826015  ,  0.01627248, ..., -0.4175545 ,\n",
            "         0.12543313,  0.43962026],\n",
            "       [-0.03330702, -0.23320909,  0.483733  , ..., -0.3041923 ,\n",
            "         0.52911955, -0.07058693],\n",
            "       [-0.06971946,  0.00627857, -0.47415066, ...,  0.5152738 ,\n",
            "         0.07679212,  0.7221851 ]], dtype=float32), array([ 1.1969082e-01,  1.7833152e-01,  1.1429913e-01,  1.9168578e-02,\n",
            "        1.5512307e-01,  1.5915808e-01,  1.0637063e-01,  2.6362741e-02,\n",
            "        2.4015787e-01,  6.3602664e-02,  1.6088918e-01,  1.0011130e-01,\n",
            "        2.3378630e-01,  1.1011102e-01,  2.3675400e-01,  2.9380381e-04,\n",
            "        1.9356622e-01,  1.5734118e-01,  1.5660290e-01,  1.3638958e-01,\n",
            "        1.6729566e-01,  6.5885663e-02,  1.0788829e-01,  1.8165192e-01,\n",
            "        1.1171172e-01,  2.9361919e-01,  4.8757084e-02,  1.7030214e-01,\n",
            "        1.9318545e-01,  1.5309225e-02,  1.8863857e-01,  5.7050612e-02,\n",
            "        2.1283811e-02,  7.8279421e-02,  1.6392156e-02,  1.1547578e-01,\n",
            "        1.7739287e-01,  9.2036977e-02,  1.0438314e-01, -1.1354206e-01,\n",
            "        2.3904803e-01, -5.5353079e-02,  1.4098956e-02,  3.0741838e-01,\n",
            "        7.1031459e-02,  1.0705975e-02,  2.8365653e-02, -1.3195146e-02,\n",
            "        8.2549855e-02, -2.6167394e-03,  8.2263947e-02, -6.6168435e-02,\n",
            "        2.9934989e-02,  1.0558230e-01,  6.6348322e-02,  1.9086453e-01,\n",
            "        1.5234245e-01,  3.1261870e-01,  1.0885191e-01, -4.7468059e-02,\n",
            "       -6.6200122e-02,  3.0920875e-01,  9.1310918e-02,  5.9120517e-02],\n",
            "      dtype=float32)]\n",
            "{'name': 'activation_1', 'trainable': True, 'dtype': 'float32', 'activation': 'relu'} []\n",
            "{'name': 'dropout_1', 'trainable': True, 'dtype': 'float32', 'rate': 0.2, 'noise_shape': None, 'seed': None} []\n",
            "{'name': 'output_layer', 'trainable': True, 'dtype': 'float32', 'units': 10, 'activation': 'linear', 'use_bias': True, 'kernel_initializer': {'class_name': 'GlorotUniform', 'config': {'seed': None}}, 'bias_initializer': {'class_name': 'Zeros', 'config': {}}, 'kernel_regularizer': None, 'bias_regularizer': None, 'activity_regularizer': None, 'kernel_constraint': None, 'bias_constraint': None} [array([[-8.06158185e-01, -1.73933417e-01,  5.36699235e-01,\n",
            "        -9.17812958e-02, -9.96379972e-01,  2.97341019e-01,\n",
            "         6.13215864e-01, -6.28475070e-01, -1.20606608e-04,\n",
            "        -1.23539791e-01],\n",
            "       [ 4.37439948e-01, -9.34214950e-01,  1.78368926e-01,\n",
            "         3.09234768e-01, -1.14283741e+00,  1.69502139e-01,\n",
            "         3.88717324e-01, -9.09977973e-01,  3.29425216e-01,\n",
            "         3.22182089e-01],\n",
            "       [ 3.22949678e-01,  1.42827660e-01, -1.37487873e-01,\n",
            "        -3.24581474e-01,  4.55313884e-02, -1.27128708e+00,\n",
            "        -9.53117967e-01,  5.97732723e-01,  6.41484261e-02,\n",
            "         6.96353376e-01],\n",
            "       [-1.19175196e+00,  7.60156810e-01, -2.60233492e-01,\n",
            "        -2.81025469e-01,  6.81746364e-01,  5.44674575e-01,\n",
            "        -5.28820455e-01, -3.91950727e-01, -1.29576623e+00,\n",
            "        -2.23386854e-01],\n",
            "       [ 1.84845701e-01, -6.52946293e-01,  7.86138475e-02,\n",
            "         4.15614545e-01, -1.82505906e+00,  2.08855480e-01,\n",
            "        -3.20755206e-02, -6.51026726e-01,  4.28663433e-01,\n",
            "         3.09380502e-01],\n",
            "       [-1.20842885e-02, -8.53941858e-01,  1.02258988e-01,\n",
            "         6.59604967e-01, -1.44590807e+00, -5.78754961e-01,\n",
            "        -1.05180550e+00,  3.65912944e-01,  4.35657620e-01,\n",
            "        -8.92381817e-02],\n",
            "       [ 5.26371598e-01, -3.92942339e-01, -7.41532385e-01,\n",
            "        -1.33356646e-01,  5.99868298e-01,  7.55942613e-02,\n",
            "         3.88432026e-01, -9.28954959e-01, -1.63172352e+00,\n",
            "        -6.97577000e-01],\n",
            "       [-1.24010336e+00,  3.53414357e-01,  3.28768820e-01,\n",
            "        -1.93536460e-01,  4.43412736e-02,  6.75209284e-01,\n",
            "         1.12781920e-01, -8.16638350e-01, -5.45411669e-02,\n",
            "        -4.92028445e-01],\n",
            "       [ 2.51119047e-01, -1.88118458e-01, -2.72150517e-01,\n",
            "         7.06621647e-01, -6.79093182e-01, -1.12337619e-01,\n",
            "        -1.26667643e+00,  7.75504351e-01, -1.20064247e+00,\n",
            "         5.17003596e-01],\n",
            "       [-3.68059814e-01,  1.48135588e-01, -1.77630746e+00,\n",
            "        -2.45708689e-01, -2.86308646e-01,  5.39058149e-01,\n",
            "         4.28558290e-01, -1.30413699e+00, -2.71640867e-01,\n",
            "         1.49734214e-01],\n",
            "       [ 4.67372119e-01,  1.32054329e-01,  4.22922164e-01,\n",
            "        -3.18002403e-01, -1.46890944e-02, -1.29477644e+00,\n",
            "         2.80702591e-01, -6.09064281e-01, -2.43942633e-01,\n",
            "        -9.60764110e-01],\n",
            "       [ 6.14967287e-01,  4.63562980e-02, -5.20395637e-01,\n",
            "        -9.49866891e-01,  6.81253791e-01,  1.51853964e-01,\n",
            "        -6.47424102e-01,  5.55401266e-01, -9.91721034e-01,\n",
            "         4.77485418e-01],\n",
            "       [-7.91211367e-01, -5.58230206e-02,  9.01914775e-01,\n",
            "         6.25510454e-01, -7.16916621e-01, -1.49502933e+00,\n",
            "        -8.03432345e-01, -9.38263714e-01, -2.56102264e-01,\n",
            "         1.20957300e-01],\n",
            "       [-1.11626804e+00,  3.07154119e-01, -1.90441832e-01,\n",
            "         2.29562908e-01,  4.18851227e-01, -5.42254686e-01,\n",
            "        -9.75274146e-01,  3.20991755e-01,  1.80382147e-01,\n",
            "         1.60871312e-01],\n",
            "       [-1.36010385e+00, -2.00968329e-02, -1.42428175e-01,\n",
            "         2.00889990e-01, -1.09253728e+00,  2.45921299e-01,\n",
            "        -1.60039616e+00,  3.59552592e-01, -8.56349319e-02,\n",
            "         4.72008377e-01],\n",
            "       [ 1.27461806e-01,  6.90214515e-01, -1.12268841e+00,\n",
            "        -3.48512918e-01, -1.73569173e-01, -3.71509641e-01,\n",
            "        -7.59824216e-01, -7.38601923e-01, -5.02844714e-02,\n",
            "         7.74959683e-01],\n",
            "       [-9.26231623e-01, -7.21971571e-01,  2.87488043e-01,\n",
            "         2.96551615e-01, -1.26636910e+00, -4.23255175e-01,\n",
            "        -1.43344855e+00,  4.90559876e-01,  2.97673762e-01,\n",
            "         2.53205717e-01],\n",
            "       [-1.43310595e-02, -1.51226735e+00, -5.87544501e-01,\n",
            "         4.03942734e-01, -8.59275162e-01,  6.11996949e-01,\n",
            "        -9.43673790e-01,  3.71879846e-01, -9.83599275e-02,\n",
            "         3.46872240e-01],\n",
            "       [ 5.37823498e-01, -2.36237973e-01, -5.67084253e-01,\n",
            "         6.67595029e-01, -3.41043264e-01,  4.42056000e-01,\n",
            "         3.52372885e-01, -1.14396036e+00, -1.30831003e+00,\n",
            "         1.30955979e-01],\n",
            "       [-5.70195854e-01,  3.14572275e-01,  5.95332384e-01,\n",
            "         1.43336337e-02, -6.43683016e-01, -4.47104931e-01,\n",
            "         3.77347410e-01, -9.34652328e-01,  2.01462865e-01,\n",
            "        -1.27846634e+00],\n",
            "       [-7.57091582e-01,  2.62863576e-01,  7.05726385e-01,\n",
            "         3.00634168e-02, -7.79797196e-01,  3.90181273e-01,\n",
            "        -1.04839826e+00,  2.56207079e-01, -5.24597585e-01,\n",
            "        -1.14253473e+00],\n",
            "       [-5.34010410e-01,  2.43245795e-01,  2.92216897e-01,\n",
            "        -3.68250370e-01,  1.92154273e-01, -1.68340123e+00,\n",
            "        -4.67668176e-01, -3.82656083e-02,  3.70399445e-01,\n",
            "         4.48062092e-01],\n",
            "       [-2.42835507e-01,  2.13034645e-01, -1.71165061e+00,\n",
            "         1.54898716e-02,  2.04876348e-01,  4.29949880e-01,\n",
            "        -9.92087245e-01,  4.01807517e-01, -1.67300850e-01,\n",
            "         1.14914589e-01],\n",
            "       [ 1.46759609e-02, -1.03552902e+00, -3.07545632e-01,\n",
            "         7.14021504e-01,  2.95034885e-01,  4.49302554e-01,\n",
            "         3.61673325e-01,  1.04200804e+00, -8.23369920e-01,\n",
            "        -1.29336727e+00],\n",
            "       [ 6.16289318e-01,  2.12691441e-01, -5.07347472e-03,\n",
            "        -1.46932662e+00,  6.71187818e-01, -7.04946160e-01,\n",
            "        -7.63453364e-01,  5.92031538e-01, -3.60338360e-01,\n",
            "         2.52878159e-01],\n",
            "       [-1.07358563e+00,  2.44181722e-01,  4.01100993e-01,\n",
            "         4.66408551e-01, -1.51641917e+00, -1.35795385e-01,\n",
            "        -7.55659699e-01,  2.47191712e-01, -4.96704616e-02,\n",
            "        -1.63890019e-01],\n",
            "       [-5.81821442e-01,  6.93568140e-02, -2.03567863e+00,\n",
            "        -4.39317048e-01,  4.31970567e-01,  4.57267731e-01,\n",
            "         9.03350636e-02,  2.94185877e-01,  5.60598820e-02,\n",
            "         3.47057909e-01],\n",
            "       [-9.40931320e-01,  2.39275426e-01,  6.38521492e-01,\n",
            "        -8.34667087e-02, -4.08125609e-01, -5.04258871e-01,\n",
            "         2.81774789e-01,  4.84843850e-01,  2.03299895e-01,\n",
            "        -1.36571109e+00],\n",
            "       [-5.01470208e-01, -2.93529212e-01, -4.04182196e-01,\n",
            "         4.28169012e-01, -4.22878861e-01, -9.96470571e-01,\n",
            "        -1.20904744e+00,  7.34928310e-01,  4.35102284e-02,\n",
            "         4.45471764e-01],\n",
            "       [-1.67677194e-01,  4.41581875e-01,  1.62542596e-01,\n",
            "        -5.96094966e-01,  3.94844502e-01, -2.00176582e-01,\n",
            "         3.87920231e-01, -1.02410626e+00,  1.62129506e-01,\n",
            "        -1.10980082e+00],\n",
            "       [ 1.66459560e-01, -2.11037114e-01, -8.24491829e-02,\n",
            "         2.12677255e-01, -2.18576097e+00, -3.12215447e-01,\n",
            "        -1.55208096e-01, -7.94869125e-01,  2.31131092e-01,\n",
            "         2.63024956e-01],\n",
            "       [ 2.61266470e-01, -7.76557267e-01, -9.96556699e-01,\n",
            "        -8.71663272e-01, -1.53903589e-01,  2.29566514e-01,\n",
            "         5.03220744e-02, -9.02726257e-04, -1.35518715e-01,\n",
            "        -1.58217609e-01],\n",
            "       [ 3.95797998e-01, -6.68326139e-01, -9.74686027e-01,\n",
            "        -9.40088332e-01,  2.82880902e-01,  1.05610274e-01,\n",
            "         3.88425514e-02,  1.96259871e-01, -3.88393283e-01,\n",
            "         1.78551495e-01],\n",
            "       [-5.93068242e-01,  4.21710223e-01,  4.99582857e-01,\n",
            "         3.85626629e-02,  1.07957996e-01, -1.02065754e+00,\n",
            "         3.73598635e-01, -9.11250710e-01,  3.24660271e-01,\n",
            "        -9.38717186e-01],\n",
            "       [ 2.41776794e-01, -2.53031626e-02, -8.37202072e-01,\n",
            "        -1.36339271e+00,  2.86620170e-01,  3.86040032e-01,\n",
            "         1.99883327e-01,  3.14977050e-01, -2.06172004e-01,\n",
            "        -5.29686153e-01],\n",
            "       [-6.16219223e-01,  5.82062542e-01,  7.58947253e-01,\n",
            "        -3.23753208e-01, -5.14469802e-01,  2.14692026e-01,\n",
            "        -1.23961973e+00,  6.55083418e-01, -2.95622587e-01,\n",
            "        -7.62461245e-01],\n",
            "       [-9.37883973e-01,  8.02092433e-01, -6.12509072e-01,\n",
            "         1.33965492e-01, -1.01414490e+00, -5.53167403e-01,\n",
            "        -9.14919555e-01, -1.65202975e-01, -1.76739585e+00,\n",
            "         9.61996377e-01],\n",
            "       [-6.09755456e-01,  3.89022380e-01,  5.11659741e-01,\n",
            "         1.55998573e-01, -3.17186527e-02, -1.01317835e+00,\n",
            "         3.77333105e-01, -1.04049027e+00,  2.71141231e-01,\n",
            "        -7.18213797e-01],\n",
            "       [ 3.57264131e-01,  4.25384343e-02, -6.88343763e-01,\n",
            "        -3.44512403e-01,  6.41987145e-01, -6.15219891e-01,\n",
            "         4.84053284e-01,  5.65898538e-01, -5.55980325e-01,\n",
            "        -1.05063999e+00],\n",
            "       [ 3.32935691e-01, -8.63922536e-02, -1.23761606e+00,\n",
            "        -6.78920269e-01, -1.68333143e-01,  5.35046577e-01,\n",
            "         3.25491190e-01, -3.85200649e-01,  6.06206596e-01,\n",
            "        -2.24157199e-01],\n",
            "       [-1.28255379e+00, -2.58967817e-01,  4.50698972e-01,\n",
            "         5.23011744e-01, -1.53862119e+00, -7.17236280e-01,\n",
            "        -1.03791499e+00,  3.82145584e-01,  3.43020290e-01,\n",
            "        -1.61603615e-01],\n",
            "       [-8.25172603e-01,  3.52014482e-01, -1.38160658e+00,\n",
            "        -3.90348226e-01,  2.67243594e-01,  3.72580111e-01,\n",
            "        -8.18787158e-01, -6.13103583e-02,  1.34986177e-01,\n",
            "         5.66633716e-02],\n",
            "       [ 4.11071092e-01,  8.91859829e-02,  6.56759590e-02,\n",
            "        -1.29342425e+00,  2.42384732e-01, -9.57893074e-01,\n",
            "         2.54466295e-01,  1.37595341e-01,  2.95057148e-01,\n",
            "        -6.42249943e-04],\n",
            "       [-1.52503574e+00,  4.15419415e-02,  3.37276936e-01,\n",
            "         3.33515912e-01, -1.47981012e+00, -2.39609201e-02,\n",
            "        -1.04903388e+00,  2.91431636e-01,  2.56845534e-01,\n",
            "         8.00283551e-02],\n",
            "       [ 4.93408173e-01,  2.46829465e-02, -5.34928322e-01,\n",
            "        -1.40335238e+00,  4.69600469e-01, -6.40341103e-01,\n",
            "        -1.02771744e-01,  2.56006420e-01, -2.21063480e-01,\n",
            "         3.77011001e-01],\n",
            "       [-5.73617399e-01,  3.51435274e-01, -1.00485218e+00,\n",
            "        -6.42389357e-01,  3.73667151e-01,  1.42755702e-01,\n",
            "         3.59977126e-01, -3.15075278e-01, -1.47601649e-01,\n",
            "        -4.36566889e-01],\n",
            "       [ 4.62932497e-01, -1.62549391e-01,  3.96949440e-01,\n",
            "        -3.75610977e-01,  2.49105588e-01, -9.64915097e-01,\n",
            "         3.90538722e-01, -1.01325190e+00,  3.60261738e-01,\n",
            "        -1.37025416e+00],\n",
            "       [-9.40055966e-01,  3.35494936e-01, -1.41367042e+00,\n",
            "        -3.27621728e-01,  4.31901574e-01, -1.18385188e-01,\n",
            "         4.59753662e-01, -9.83657781e-03,  2.42300212e-01,\n",
            "         2.77407736e-01],\n",
            "       [ 4.70268697e-01,  7.60095417e-01,  2.82715291e-01,\n",
            "         5.95432296e-02,  3.45195979e-01,  4.89436835e-01,\n",
            "        -5.60356081e-01, -4.42793190e-01, -1.04526889e+00,\n",
            "        -2.73202747e-01],\n",
            "       [ 5.77164710e-01,  1.59997657e-01, -9.65541780e-01,\n",
            "        -1.04380453e+00,  4.39614296e-01, -7.70630121e-01,\n",
            "         1.73281804e-01, -9.34217796e-02,  3.87048155e-01,\n",
            "         3.24625105e-01],\n",
            "       [-1.38579607e+00,  8.95686373e-02,  2.33528927e-01,\n",
            "         1.91341311e-01, -1.00606167e+00,  6.45954192e-01,\n",
            "         8.50727558e-02, -7.35910535e-01, -8.98857117e-02,\n",
            "        -5.53336024e-01],\n",
            "       [ 1.81660149e-02,  1.16512038e-01, -1.70798349e+00,\n",
            "        -9.42088068e-01,  2.93190569e-01,  2.20713884e-01,\n",
            "         2.19753370e-01, -5.95716178e-01,  3.23099613e-01,\n",
            "         2.60527402e-01],\n",
            "       [-7.08107948e-01,  3.02534014e-01,  3.47337842e-01,\n",
            "        -9.91168022e-01,  4.07507628e-01, -1.97464064e-01,\n",
            "         8.23429748e-02,  3.61285269e-01,  1.19832508e-01,\n",
            "        -7.72855401e-01],\n",
            "       [-9.35796857e-01,  3.91905233e-02, -1.36007741e-01,\n",
            "         3.74221027e-01, -3.61801177e-01,  4.77965176e-01,\n",
            "         4.53949630e-01, -1.54028988e+00,  1.15103073e-01,\n",
            "        -2.59913117e-01],\n",
            "       [ 4.02571201e-01, -1.01026356e+00, -1.64709997e+00,\n",
            "        -4.17868830e-02, -3.40741366e-01,  4.14379597e-01,\n",
            "         5.51541865e-01,  5.61392382e-02,  2.95954525e-01,\n",
            "         3.55412424e-01],\n",
            "       [-2.47082010e-01, -1.40297961e+00,  1.61378622e-01,\n",
            "         5.00450611e-01, -1.23640633e+00,  3.95430237e-01,\n",
            "        -5.93866885e-01,  1.19369276e-01,  3.90049100e-01,\n",
            "         4.17782515e-01],\n",
            "       [ 4.24253345e-01, -1.21288931e+00,  3.76131713e-01,\n",
            "         2.26760954e-01, -1.48598075e+00, -5.20790398e-01,\n",
            "        -3.92629541e-02, -7.74683893e-01,  4.02118355e-01,\n",
            "         2.76418030e-01],\n",
            "       [ 5.93628466e-01, -8.58441949e-01,  1.05494249e+00,\n",
            "         2.67194778e-01, -4.33326542e-01, -7.35770464e-01,\n",
            "         4.38521028e-01, -1.00793290e+00, -1.13256276e+00,\n",
            "         2.20279291e-01],\n",
            "       [-2.00021282e-01, -1.00330937e+00, -1.29200459e+00,\n",
            "         7.57295370e-01, -6.49837494e-01,  7.31975973e-01,\n",
            "         3.85067552e-01, -4.03698266e-01, -1.57012105e-01,\n",
            "        -1.11421771e-01],\n",
            "       [-2.26749361e-01, -1.26204446e-01, -2.34657899e-01,\n",
            "        -2.64352486e-02, -2.55612463e-01,  1.70161933e-01,\n",
            "        -1.77041993e-01, -1.30709903e-02,  1.43094182e-01,\n",
            "         2.15011671e-01],\n",
            "       [ 2.44908541e-01,  4.28428352e-01, -6.21375084e-01,\n",
            "        -1.04578555e+00,  5.15735030e-01,  2.32682869e-01,\n",
            "         1.60223246e-01, -8.13766420e-01,  3.46856207e-01,\n",
            "        -4.29252654e-01],\n",
            "       [-3.02551568e-01,  2.61437058e-01,  4.60665643e-01,\n",
            "         2.96287715e-01, -2.07207608e+00,  3.53664786e-01,\n",
            "        -4.56565291e-01, -2.65477926e-01,  5.20028695e-02,\n",
            "         1.69790372e-01],\n",
            "       [ 5.67399323e-01,  1.86289459e-01, -1.16281152e-01,\n",
            "        -4.86678630e-01,  5.26150942e-01, -1.16460896e+00,\n",
            "         1.58809230e-01,  1.92733169e-01, -1.19805731e-01,\n",
            "        -6.50450468e-01],\n",
            "       [ 4.58453059e-01, -3.56220126e-01,  2.71249235e-01,\n",
            "         4.45260972e-01, -8.20599437e-01,  1.21935075e-02,\n",
            "        -7.42984265e-02, -1.20358407e+00,  4.88667488e-01,\n",
            "        -2.67565519e-01]], dtype=float32), array([-0.01420109, -0.00143794,  0.0626498 ,  0.13776255, -0.14463067,\n",
            "       -0.03634392,  0.04640959,  0.02704564, -0.10599674, -0.01319453],\n",
            "      dtype=float32)]\n",
            "{'name': 'activation_2', 'trainable': True, 'dtype': 'float32', 'activation': 'softmax'} []\n"
          ]
        }
      ]
    },
    {
      "cell_type": "markdown",
      "source": [
        "**<h1>Retrieving Specific Weights</h1>**\n",
        "\n",
        "<li>The layers of the model are stored in a list of length <code>8</code>,   </li>"
      ],
      "metadata": {
        "id": "71Z-jZRXCfxt"
      }
    },
    {
      "cell_type": "code",
      "source": [
        "len(model.layers)"
      ],
      "metadata": {
        "colab": {
          "base_uri": "https://localhost:8080/"
        },
        "id": "8cjUr-n-D_GY",
        "outputId": "319aad89-10eb-47c8-f0a2-10d55cdc52af"
      },
      "execution_count": null,
      "outputs": [
        {
          "output_type": "execute_result",
          "data": {
            "text/plain": [
              "8"
            ]
          },
          "metadata": {},
          "execution_count": 23
        }
      ]
    },
    {
      "cell_type": "markdown",
      "source": [
        "<li>For reference, again, this is the code to define the model. We can see which indexes of the list we need to retrieve the weights are from, those being the layers in which the input, hidden, and output layers are defined, being indexes 1, 4, and 7 respectively.</li>\n",
        "\n",
        "```\n",
        "# define model architecture\n",
        "model = tf.keras.Sequential()\n",
        "model.add(tf.keras.layers.Dense(64, input_shape=(X_train.shape[1],), name=\"input_layer\"))  # layer 1\n",
        "model.add(tf.keras.layers.Activation('relu'))  # layer 2\n",
        "model.add(tf.keras.layers.Dropout(0.2))  # layer 3\n",
        "model.add(tf.keras.layers.Dense(64, name=\"hidden_layer\"))  # layer 4\n",
        "model.add(tf.keras.layers.Activation('relu'))   # layer 5\n",
        "model.add(tf.keras.layers.Dropout(0.2))    # layer 6\n",
        "model.add(tf.keras.layers.Dense(10, name=\"output_layer\"))    # layer 7\n",
        "model.add(tf.keras.layers.Activation('softmax'))    # layer 8\n",
        "```"
      ],
      "metadata": {
        "id": "Mh0YWOJ8FTLv"
      }
    },
    {
      "cell_type": "markdown",
      "source": [
        "<li>Thus, we can get the weights and biases of each layer, as shown in the following section. Note, the weights of each layer are stored in the first index, while the biases of each layer are stored in the index immediately following it.</li>"
      ],
      "metadata": {
        "id": "hIwOof9xG-FE"
      }
    },
    {
      "cell_type": "code",
      "source": [
        "# [0]=weights [1]=biases\n",
        "input_layer_weights = model.layers[0].get_weights()[0]\n",
        "input_layer_biases  = model.layers[0].get_weights()[1]\n",
        "hidden_layer_weights = model.layers[3].get_weights()[0]\n",
        "hidden_layer_biases  = model.layers[3].get_weights()[1]\n",
        "output_layer_weights = model.layers[6].get_weights()[0]\n",
        "output_layer_biases  = model.layers[6].get_weights()[1]"
      ],
      "metadata": {
        "id": "RqnKs3vd_5yh"
      },
      "execution_count": null,
      "outputs": []
    },
    {
      "cell_type": "markdown",
      "source": [
        "**<h1>Defining Functions Necessary for Forward Propogation</h1>**\n",
        "\n",
        "<li>Below, we define functions necessary for forward propogation. These are all given in the Programming Exercises problems 1 to 6, and 8.</li>\n",
        "\n",
        "\n",
        "\n"
      ],
      "metadata": {
        "id": "upJO2tOkq8tB"
      }
    },
    {
      "cell_type": "code",
      "source": [
        "# define sigmoid function\n",
        "def sigmoid(x):\n",
        "  return 1 / (1 + np.exp(-x))\n",
        "\n",
        "# initialize weights\n",
        "def init_weights(n_inputs, n_hidden, n_output):\n",
        "  W0 = np.random.randn(n_inputs, n_hidden)\n",
        "  W1 = np.random.randn(n_hidden, n_hidden)\n",
        "  W2 = np.random.randn(n_hidden, n_output)\n",
        "  return W0, W1, W2\n",
        "\n",
        "# feedforward function\n",
        "def feedforward(x, W0, W1, W2):\n",
        "  z0 = np.dot(x, W0)\n",
        "  a0 = sigmoid(z0)\n",
        "  z1 = np.dot(a0, W1)\n",
        "  a1 = sigmoid(z1)\n",
        "  z2 = np.dot(a1, W2)\n",
        "  a2 = sigmoid(z2)\n",
        "  return z0, a0, z1, a1, z2, a2\n",
        "\n",
        "# predict function\n",
        "def predict(x, W0, W1, W2):\n",
        "  _,_, _, _, _, a2 = feedforward(x, W0, W1, W2)\n",
        "  return a2\n",
        "\n",
        "# backpropogation function\n",
        "def backprop(X_training, Y_training, W0, W1, W2, learning_rate):\n",
        "  m = len(X_training)\n",
        "  for x, y in zip(X_training, Y_training):\n",
        "    z0, a0, z1, a1, z2, a2 = feedforward(x, W0, W1, W2)\n",
        "    dz2 = a2 - y\n",
        "    dw2 = np.dot(a1.T, dz2) / m\n",
        "    dz1 = np.dot(dz2, W2.T) * sigmoid(z1) * (1 - sigmoid(z1))\n",
        "    dw1 = np.dot(a0.T, dz1) / m\n",
        "    dz0 = np.dot(dz1, W1.T) * sigmoid(z0) * (1 - sigmoid(z0))\n",
        "    dw0 = np.dot(x.T, dz0) / m\n",
        "    W0 -= learning_rate * dw0\n",
        "    W1 -= learning_rate * dw1\n",
        "    W2 -= learning_rate * dw2\n",
        "  return W0, W1, W2\n",
        "\n",
        "#loss function\n",
        "def loss(Y_pred, Y):\n",
        "  return np.mean((Y_pred - Y) ** 2)\n",
        "\n",
        "#main function\n",
        "def main(X_training, Y_training, n_inputs, n_hidden, n_output, n_epochs,\n",
        "learning_rate):\n",
        "  W0, W1, W2 = init_weights(n_inputs, n_hidden, n_output)\n",
        "  for epoch in range(n_epochs):\n",
        "    W0, W1, W2 = backprop(X_training, Y_training, W0, W1, W2, learning_rate)\n",
        "    Y_pred = predict(X_training, W0, W1, W2)\n",
        "    train_loss = loss(Y_pred, Y_training)\n",
        "    print(epoch, train_loss)\n",
        "  return W0, W1, W2, train_loss\n",
        "\n",
        "# define the linear function\n",
        "def linear_function(W, A_prev):\n",
        "  Z = np.dot(W.T, A_prev)\n",
        "  return Z\n",
        "\n",
        "# define the non-linear function\n",
        "def non_linear_function(Z, activation_function):\n",
        "  A = activation_function(Z)\n",
        "  return A\n",
        "\n",
        "# define the forward propagation function\n",
        "def forward_propagation(W, A_prev, activation_function):\n",
        "  Z = linear_function(W, A_prev)\n",
        "  A = non_linear_function(Z, activation_function)\n",
        "  return A\n",
        "\n",
        "# relu nonlinear activation function\n",
        "def relu(z):\n",
        "  return np.maximum(0, z)\n",
        "\n",
        "# softmax nonlinear activation function\n",
        "def softmax(z):\n",
        "  exp_z = np.exp(z)\n",
        "  return exp_z / exp_z.sum()\n"
      ],
      "metadata": {
        "id": "En6R3T6Hw3vD"
      },
      "execution_count": null,
      "outputs": []
    },
    {
      "cell_type": "markdown",
      "source": [
        "**<h1>Defining NumPy Network (Nonfunctional)</h1>**\n",
        "\n",
        "<li>Below, we attempt to create the neural network through NumPy.</li>\n"
      ],
      "metadata": {
        "id": "AhQ2cwMNDRpD"
      }
    },
    {
      "cell_type": "code",
      "source": [
        "# set training data\n",
        "x_training = X_train\n",
        "y_training = Y_train\n",
        "\n",
        "# Initialize network\n",
        "n_inputs = 64\n",
        "n_hidden = 64\n",
        "n_output = 10\n",
        "\n",
        "W0, W1, W2 = init_weights(n_inputs, n_hidden, n_output)\n",
        "\n",
        "# Train the network\n",
        "W0, W1, W2 = main(x_training, y_training, n_inputs, n_hidden, n_output, n_epochs=400, learning_rate=0.2)\n",
        "\n",
        "# Test the network\n",
        "x_test = np.random.randn(1, 10)\n",
        "y_pred = predict(x_test, W0, W1, W2)\n",
        "print(y_pred)"
      ],
      "metadata": {
        "id": "lSGekgbr_08S"
      },
      "execution_count": null,
      "outputs": []
    },
    {
      "cell_type": "markdown",
      "source": [
        "**<h1>Execute Forward Propogation (Nonfunctional)</h1>**\n",
        "\n",
        "<li>Below, we attempt to execute forward propogation of the NumPy network.</li>\n"
      ],
      "metadata": {
        "id": "jEQWQ95rDub6"
      }
    },
    {
      "cell_type": "code",
      "source": [
        "# Example usage:\n",
        "W = np.array(input_layer_weights)\n",
        "A_prev = np.array([0])\n",
        "b = np.array(input_layer_biases)\n",
        "\n",
        "# Append bias vector to W\n",
        "W = np.append(W, b.reshape(-1,1), axis=1)\n",
        "\n",
        "# Append bias term to A_prev\n",
        "A_prev = np.append(A_prev, hidden_layer_biases)\n",
        "\n",
        "# Perform forward propagation\n",
        "A = forward_propagation(W, A_prev, relu)\n",
        "A = forward_propagation(W, A_prev, relu)\n",
        "A = forward_propagation(W, A_prev, softmax)\n",
        "# Output: A = sigmoid(W.T * A_prev)"
      ],
      "metadata": {
        "id": "jB4V8kl6DPWP"
      },
      "execution_count": null,
      "outputs": []
    },
    {
      "cell_type": "markdown",
      "source": [
        "**<h1>Task 3.</h1>**\n"
      ],
      "metadata": {
        "id": "0Eki1KPsnD2E"
      }
    },
    {
      "cell_type": "markdown",
      "source": [
        "**<h1>Verify Accuracy</h1>**\n",
        "\n",
        "<li>Below, we plot images for several results in each class.</li>\n",
        "\n",
        "\n",
        "> <li>The chart below displays the model accuracy and loss over time while training.</li>\n",
        "\n",
        "\n"
      ],
      "metadata": {
        "id": "p0bvkaRpnQ4d"
      }
    },
    {
      "cell_type": "code",
      "source": [
        "# Plotting the metrics for model\n",
        "\n",
        "plt.subplot(2,1,1)\n",
        "plt.title('Model Accuracy') \n",
        "plt.xlabel('Epoch')\n",
        "plt.ylabel('Accuracy') \n",
        "plt.plot(history.history['accuracy'])\n",
        "plt.plot(history.history['val_accuracy']) \n",
        "\n",
        "plt.legend(['Train', 'Test'], loc='lower right')\n",
        "\n",
        "plt.subplot(2,1,2) \n",
        "plt.title('Model Loss') \n",
        "plt.xlabel('Epoch')\n",
        "plt.ylabel('Loss') \n",
        "plt.plot(history.history['loss']) \n",
        "plt.plot(history.history['val_loss']) \n",
        "\n",
        "plt.legend(['Train', 'Test'], loc='upper right') \n",
        "plt.tight_layout()\n",
        "\n",
        "plt.show()"
      ],
      "metadata": {
        "colab": {
          "base_uri": "https://localhost:8080/",
          "height": 297
        },
        "id": "6BGp-MK8zGwE",
        "outputId": "b14a9ee9-ee20-41ad-8137-0c695deeae70"
      },
      "execution_count": null,
      "outputs": [
        {
          "output_type": "display_data",
          "data": {
            "text/plain": [
              "<Figure size 432x288 with 2 Axes>"
            ],
            "image/png": "[encoded data removed]"
          },
          "metadata": {
            "needs_background": "light"
          }
        }
      ]
    },
    {
      "cell_type": "markdown",
      "source": [
        "<br><li>For reference, this is the training loss and training accuracy of the model.</li>\n"
      ],
      "metadata": {
        "id": "ZartGvF8jJdc"
      }
    },
    {
      "cell_type": "code",
      "source": [
        "# evaluate model on test set\n",
        "test_loss, test_acc = model.evaluate(X_test, Y_test)\n",
        "print(\"train_loss:\", test_loss)\n",
        "print(\"train_acc:\", test_acc)"
      ],
      "metadata": {
        "colab": {
          "base_uri": "https://localhost:8080/"
        },
        "id": "gndP63TMC3fb",
        "outputId": "b09fa322-ac24-4741-a986-d2a026555132"
      },
      "execution_count": null,
      "outputs": [
        {
          "output_type": "stream",
          "name": "stdout",
          "text": [
            "29/29 [==============================] - 0s 2ms/step - loss: 0.1913 - accuracy: 0.9600\n",
            "train_loss: 0.19132837653160095\n",
            "train_acc: 0.9599555134773254\n"
          ]
        }
      ]
    },
    {
      "cell_type": "markdown",
      "source": [
        "**<h1>Model Predictions</h1>**\n",
        "\n",
        "<li>Below, we generate predictions with our model on the test split of the dataset.</li>\n",
        "\n",
        "> <li>We append predictions that match the expected value in the <code>correct_indices</code> list, append predictions that do not match the expected value in the <code>incorrect_indices</code> list.</li>\n"
      ],
      "metadata": {
        "id": "jXWKVRgwjXjD"
      }
    },
    {
      "cell_type": "code",
      "source": [
        "# get predictions with model on test set\n",
        "predictions = (model.predict(X_test) > 0.1).astype(\"float32\")\n",
        "\n",
        "correct_indices = np.nonzero(predictions == Y_test)[0] \n",
        "incorrect_indices = np.nonzero(predictions != Y_test)[0]\n",
        "\n",
        "print(len(correct_indices),\" classified correctly\") \n",
        "print(len(incorrect_indices),\" classified incorrectly\")\n"
      ],
      "metadata": {
        "colab": {
          "base_uri": "https://localhost:8080/"
        },
        "id": "z4t4Pvi2KIo2",
        "outputId": "cc7ff57f-04a7-47d8-8e66-baa3910353d8"
      },
      "execution_count": null,
      "outputs": [
        {
          "output_type": "stream",
          "name": "stdout",
          "text": [
            "29/29 [==============================] - 0s 2ms/step\n",
            "8882  classified correctly\n",
            "108  classified incorrectly\n"
          ]
        }
      ]
    },
    {
      "cell_type": "markdown",
      "source": [
        "**<h1>Visualizing Predictions</h1>**\n",
        "\n",
        "<li>Below, we output the first 25 indexes of the <code>correct_indices</code> list, outputting both the predicted value and the truth value.</li>\n",
        "\n",
        "> <li>We can see below that a predicted value of <code>[0. 0. 0. 0. 0. 0. 1. 0. 0. 0.]</code> corresponds to the outputted chart of a figure resembling an <code>6</code>, and that a predicted value of <code>[0. 0. 0. 0. 0. 0. 0. 1. 0. 0.]</code> corresponds to the outputted chart of a figure resembling an <code>7</code>.</li>"
      ],
      "metadata": {
        "id": "E9dX6npTnv0w"
      }
    },
    {
      "cell_type": "code",
      "source": [
        "# plot correct predicted values and graphs\n",
        "for i, correct in enumerate(correct_indices[:25]): \n",
        "  img = X_test[correct].reshape(8,8)\n",
        "  plt.subplot(5,5,i+1) \n",
        "  plt.imshow(img, cmap=\"Greys\")\n",
        "  print(\"Predicted: {}, Truth: {}\".format(predictions[correct],Y_test[correct]))\n"
      ],
      "metadata": {
        "colab": {
          "base_uri": "https://localhost:8080/",
          "height": 701
        },
        "id": "1tJsRHG3LhyG",
        "outputId": "acc7b899-9fc0-4a9c-a6f4-184bd435d788"
      },
      "execution_count": null,
      "outputs": [
        {
          "output_type": "stream",
          "name": "stdout",
          "text": [
            "Predicted: [0. 0. 0. 0. 0. 0. 1. 0. 0. 0.], Truth: [0. 0. 0. 0. 0. 0. 1. 0. 0. 0.]\n",
            "Predicted: [0. 0. 0. 0. 0. 0. 1. 0. 0. 0.], Truth: [0. 0. 0. 0. 0. 0. 1. 0. 0. 0.]\n",
            "Predicted: [0. 0. 0. 0. 0. 0. 1. 0. 0. 0.], Truth: [0. 0. 0. 0. 0. 0. 1. 0. 0. 0.]\n",
            "Predicted: [0. 0. 0. 0. 0. 0. 1. 0. 0. 0.], Truth: [0. 0. 0. 0. 0. 0. 1. 0. 0. 0.]\n",
            "Predicted: [0. 0. 0. 0. 0. 0. 1. 0. 0. 0.], Truth: [0. 0. 0. 0. 0. 0. 1. 0. 0. 0.]\n",
            "Predicted: [0. 0. 0. 0. 0. 0. 1. 0. 0. 0.], Truth: [0. 0. 0. 0. 0. 0. 1. 0. 0. 0.]\n",
            "Predicted: [0. 0. 0. 0. 0. 0. 1. 0. 0. 0.], Truth: [0. 0. 0. 0. 0. 0. 1. 0. 0. 0.]\n",
            "Predicted: [0. 0. 0. 0. 0. 0. 1. 0. 0. 0.], Truth: [0. 0. 0. 0. 0. 0. 1. 0. 0. 0.]\n",
            "Predicted: [0. 0. 0. 0. 0. 0. 1. 0. 0. 0.], Truth: [0. 0. 0. 0. 0. 0. 1. 0. 0. 0.]\n",
            "Predicted: [0. 0. 0. 0. 0. 0. 1. 0. 0. 0.], Truth: [0. 0. 0. 0. 0. 0. 1. 0. 0. 0.]\n",
            "Predicted: [0. 0. 0. 0. 0. 0. 0. 1. 0. 0.], Truth: [0. 0. 0. 0. 0. 0. 0. 1. 0. 0.]\n",
            "Predicted: [0. 0. 0. 0. 0. 0. 0. 1. 0. 0.], Truth: [0. 0. 0. 0. 0. 0. 0. 1. 0. 0.]\n",
            "Predicted: [0. 0. 0. 0. 0. 0. 0. 1. 0. 0.], Truth: [0. 0. 0. 0. 0. 0. 0. 1. 0. 0.]\n",
            "Predicted: [0. 0. 0. 0. 0. 0. 0. 1. 0. 0.], Truth: [0. 0. 0. 0. 0. 0. 0. 1. 0. 0.]\n",
            "Predicted: [0. 0. 0. 0. 0. 0. 0. 1. 0. 0.], Truth: [0. 0. 0. 0. 0. 0. 0. 1. 0. 0.]\n",
            "Predicted: [0. 0. 0. 0. 0. 0. 0. 1. 0. 0.], Truth: [0. 0. 0. 0. 0. 0. 0. 1. 0. 0.]\n",
            "Predicted: [0. 0. 0. 0. 0. 0. 0. 1. 0. 0.], Truth: [0. 0. 0. 0. 0. 0. 0. 1. 0. 0.]\n",
            "Predicted: [0. 0. 0. 0. 0. 0. 0. 1. 0. 0.], Truth: [0. 0. 0. 0. 0. 0. 0. 1. 0. 0.]\n",
            "Predicted: [0. 0. 0. 0. 0. 0. 0. 1. 0. 0.], Truth: [0. 0. 0. 0. 0. 0. 0. 1. 0. 0.]\n",
            "Predicted: [0. 0. 0. 0. 0. 0. 0. 1. 0. 0.], Truth: [0. 0. 0. 0. 0. 0. 0. 1. 0. 0.]\n",
            "Predicted: [0. 0. 0. 0. 0. 0. 0. 0. 1. 0.], Truth: [0. 0. 0. 0. 0. 0. 0. 0. 1. 0.]\n",
            "Predicted: [0. 0. 0. 0. 0. 0. 0. 0. 1. 0.], Truth: [0. 0. 0. 0. 0. 0. 0. 0. 1. 0.]\n",
            "Predicted: [0. 0. 0. 0. 0. 0. 0. 0. 1. 0.], Truth: [0. 0. 0. 0. 0. 0. 0. 0. 1. 0.]\n",
            "Predicted: [0. 0. 0. 0. 0. 0. 0. 0. 1. 0.], Truth: [0. 0. 0. 0. 0. 0. 0. 0. 1. 0.]\n",
            "Predicted: [0. 0. 0. 0. 0. 0. 0. 0. 1. 0.], Truth: [0. 0. 0. 0. 0. 0. 0. 0. 1. 0.]\n"
          ]
        },
        {
          "output_type": "display_data",
          "data": {
            "text/plain": [
              "<Figure size 432x288 with 25 Axes>"
            ],
            "image/png": "[encoded data removed]"
          },
          "metadata": {
            "needs_background": "light"
          }
        }
      ]
    },
    {
      "cell_type": "markdown",
      "source": [
        "<li>Below, we examine the first 25 indexes of the <code>incorrect_indices</code> list, outputting both the predicted value and the truth value. As we can see, the model failed to categorize the figures as they are somewhat ambiguous.</li>\n",
        "\n",
        "> <li>Take for example the second figure, we can see that the model predicted a value of <code>[0. 0. 0. 0. 0. 0. 0. 0. 1. 1.]</code> categorizing the somewhat ambiguous figure as both a <code>8</code>, and a <code>9</code>, when in actuality the expected value was <code>[0. 0. 0. 0. 1. 0. 0. 0. 0. 0.]</code>, a figure resembling the digit <code>4</code>.</li>"
      ],
      "metadata": {
        "id": "7pqXSe6dplI4"
      }
    },
    {
      "cell_type": "code",
      "source": [
        "# plot incorrect predicted values and graphs\n",
        "for i, incorrect in enumerate(incorrect_indices[:25]):\n",
        "  img = X_test[incorrect].reshape(8,8)\n",
        "  plt.subplot(5,5,i+1) \n",
        "  plt.imshow(img, cmap=\"Greys\")\n",
        "  print( \"Predicted {}, Truth: {}\".format(predictions[incorrect], Y_test[incorrect]))"
      ],
      "metadata": {
        "colab": {
          "base_uri": "https://localhost:8080/",
          "height": 701
        },
        "id": "se9wIU24ObCK",
        "outputId": "74b9bd5f-2ba1-42aa-ed21-3b2a3688cc64"
      },
      "execution_count": null,
      "outputs": [
        {
          "output_type": "stream",
          "name": "stdout",
          "text": [
            "Predicted [0. 0. 0. 0. 0. 0. 0. 0. 1. 1.], Truth: [0. 0. 0. 0. 1. 0. 0. 0. 0. 0.]\n",
            "Predicted [0. 0. 0. 0. 0. 0. 0. 0. 1. 1.], Truth: [0. 0. 0. 0. 1. 0. 0. 0. 0. 0.]\n",
            "Predicted [0. 0. 0. 0. 0. 0. 0. 0. 1. 1.], Truth: [0. 0. 0. 0. 1. 0. 0. 0. 0. 0.]\n",
            "Predicted [0. 0. 0. 0. 0. 1. 0. 0. 0. 0.], Truth: [0. 0. 0. 0. 0. 0. 0. 0. 1. 0.]\n",
            "Predicted [0. 0. 0. 0. 0. 1. 0. 0. 0. 0.], Truth: [0. 0. 0. 0. 0. 0. 0. 0. 1. 0.]\n",
            "Predicted [0. 0. 1. 0. 0. 0. 0. 0. 1. 0.], Truth: [0. 0. 1. 0. 0. 0. 0. 0. 0. 0.]\n",
            "Predicted [0. 1. 0. 0. 1. 0. 0. 0. 0. 0.], Truth: [0. 0. 0. 0. 1. 0. 0. 0. 0. 0.]\n",
            "Predicted [0. 1. 1. 0. 0. 0. 0. 0. 0. 0.], Truth: [0. 0. 1. 0. 0. 0. 0. 0. 0. 0.]\n",
            "Predicted [0. 1. 0. 0. 1. 0. 0. 1. 0. 0.], Truth: [0. 0. 0. 0. 0. 0. 0. 1. 0. 0.]\n",
            "Predicted [0. 1. 0. 0. 1. 0. 0. 1. 0. 0.], Truth: [0. 0. 0. 0. 0. 0. 0. 1. 0. 0.]\n",
            "Predicted [0. 0. 0. 0. 0. 0. 0. 1. 0. 1.], Truth: [0. 0. 0. 0. 0. 0. 0. 1. 0. 0.]\n",
            "Predicted [0. 0. 0. 0. 0. 0. 1. 0. 1. 0.], Truth: [0. 0. 0. 0. 0. 0. 0. 0. 1. 0.]\n",
            "Predicted [0. 0. 0. 1. 0. 0. 0. 0. 1. 0.], Truth: [0. 0. 0. 0. 0. 0. 0. 0. 1. 0.]\n",
            "Predicted [0. 0. 0. 1. 0. 1. 0. 0. 0. 0.], Truth: [0. 0. 0. 1. 0. 0. 0. 0. 0. 0.]\n",
            "Predicted [0. 1. 0. 0. 1. 0. 0. 1. 0. 0.], Truth: [0. 0. 0. 0. 0. 0. 0. 1. 0. 0.]\n",
            "Predicted [0. 1. 0. 0. 1. 0. 0. 1. 0. 0.], Truth: [0. 0. 0. 0. 0. 0. 0. 1. 0. 0.]\n",
            "Predicted [0. 1. 0. 0. 0. 0. 0. 0. 1. 0.], Truth: [0. 0. 0. 0. 0. 0. 0. 0. 1. 0.]\n",
            "Predicted [0. 0. 0. 0. 0. 0. 0. 0. 1. 1.], Truth: [0. 0. 0. 0. 1. 0. 0. 0. 0. 0.]\n",
            "Predicted [0. 0. 0. 0. 0. 0. 0. 0. 1. 1.], Truth: [0. 0. 0. 0. 1. 0. 0. 0. 0. 0.]\n",
            "Predicted [0. 0. 0. 0. 0. 0. 0. 0. 1. 1.], Truth: [0. 0. 0. 0. 1. 0. 0. 0. 0. 0.]\n",
            "Predicted [0. 0. 1. 0. 0. 0. 0. 0. 1. 0.], Truth: [0. 0. 0. 0. 0. 0. 0. 0. 1. 0.]\n",
            "Predicted [0. 0. 0. 1. 0. 0. 0. 0. 0. 1.], Truth: [0. 0. 0. 0. 0. 0. 0. 0. 0. 1.]\n",
            "Predicted [0. 1. 0. 0. 0. 0. 0. 0. 0. 1.], Truth: [0. 1. 0. 0. 0. 0. 0. 0. 0. 0.]\n",
            "Predicted [0. 0. 0. 0. 0. 1. 1. 0. 1. 0.], Truth: [0. 0. 0. 0. 0. 1. 0. 0. 0. 0.]\n",
            "Predicted [0. 0. 0. 0. 0. 1. 1. 0. 1. 0.], Truth: [0. 0. 0. 0. 0. 1. 0. 0. 0. 0.]\n"
          ]
        },
        {
          "output_type": "display_data",
          "data": {
            "text/plain": [
              "<Figure size 432x288 with 25 Axes>"
            ],
            "image/png": "[encoded data removed]"
          },
          "metadata": {
            "needs_background": "light"
          }
        }
      ]
    },
    {
      "cell_type": "markdown",
      "source": [
        "**<h1>Conclusions</h1>**\n",
        "\n",
        "<li>We can see that model fitted fairly well and was able to generalize to the test data split.</li>\n",
        "\n",
        "\n",
        "><li>From the predictions examined, the model was able to reasonably recognize digits outside of some fairly ambiguous instances where even a human may not be able to distinguish the digit.</li>\n"
      ],
      "metadata": {
        "id": "RnkAsKVKrgUn"
      }
    }
  ]
}